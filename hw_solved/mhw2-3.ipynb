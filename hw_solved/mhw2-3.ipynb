{
 "cells": [
  {
   "cell_type": "code",
   "execution_count": 1,
   "id": "c28920ac",
   "metadata": {},
   "outputs": [
    {
     "name": "stdout",
     "output_type": "stream",
     "text": [
      "AdsInfo.tsv\t\t      sampleSubmission_HistCTR.csv.7z\r\n",
      "Category.tsv\t\t      script.sh\r\n",
      "counts.tx\t\t      SearchInfo.tsv\r\n",
      "counts.txt\t\t      sed\r\n",
      "database.sqlite\t\t      testSearchStream.tsv\r\n",
      "database.sqlite.7z\t      testSearchStream.tsv.7z\r\n",
      "Location.tsv\t\t      trainSearchStream.tsv\r\n",
      "Location.tsv.7z\t\t      trainSearchStream.tsv.7z\r\n",
      "PhoneRequestsStream.tsv       Untitled.ipynb\r\n",
      "PhoneRequestsStream.tsv.7z    UserInfo.tsv\r\n",
      "sampleSubmission.csv\t      UserInfo.tsv.7z\r\n",
      "sampleSubmission.csv.7z       VisitsStream.tsv\r\n",
      "sampleSubmission_HistCTR.csv\r\n"
     ]
    }
   ],
   "source": [
    "!ls"
   ]
  },
  {
   "cell_type": "markdown",
   "id": "43437159",
   "metadata": {},
   "source": [
    "# Задание 1"
   ]
  },
  {
   "cell_type": "code",
   "execution_count": 2,
   "id": "2818aab9",
   "metadata": {
    "scrolled": false
   },
   "outputs": [
    {
     "name": "stdout",
     "output_type": "stream",
     "text": [
      "UserID\tIPID\tAdID\tViewDate\r\n",
      "59703\t1259356\t469877\t2015-04-25 00:00:00.0\r\n",
      "154389\t1846749\t27252551\t2015-04-25 00:00:00.0\r\n",
      "218628\t2108380\t31685325\t2015-04-25 00:00:00.0\r\n",
      "231535\t837110\t18827716\t2015-04-25 00:00:00.0\r\n",
      "282306\t1654210\t29363673\t2015-04-25 00:00:00.0\r\n",
      "295068\t601505\t588324\t2015-04-25 00:00:00.0\r\n",
      "501897\t158476\t4103261\t2015-04-25 00:00:00.0\r\n",
      "655394\t631692\t9860544\t2015-04-25 00:00:00.0\r\n",
      "765603\t804403\t29475627\t2015-04-25 00:00:00.0\r\n",
      "790289\t121085\t23309988\t2015-04-25 00:00:00.0\r\n",
      "837832\t660200\t4983461\t2015-04-25 00:00:00.0\r\n",
      "897085\t427383\t25589669\t2015-04-25 00:00:00.0\r\n",
      "917079\t1687142\t23155802\t2015-04-25 00:00:00.0\r\n",
      "949258\t323267\t35501739\t2015-04-25 00:00:00.0\r\n",
      "1053410\t952262\t16242333\t2015-04-25 00:00:00.0\r\n",
      "1147902\t1111261\t17407330\t2015-04-25 00:00:00.0\r\n",
      "1160169\t1687581\t30242929\t2015-04-25 00:00:00.0\r\n",
      "1276652\t111989\t2975021\t2015-04-25 00:00:00.0\r\n",
      "1379160\t1808909\t13886745\t2015-04-25 00:00:00.0\r\n",
      "1434368\t1073694\t14018949\t2015-04-25 00:00:00.0\r\n",
      "1517052\t32148\t3126953\t2015-04-25 00:00:00.0\r\n",
      "1555293\t1990881\t25351907\t2015-04-25 00:00:00.0\r\n",
      "1"
     ]
    }
   ],
   "source": [
    "! hdfs dfs -head /user/VisitsStream.tsv"
   ]
  },
  {
   "cell_type": "code",
   "execution_count": 61,
   "id": "d426aeb8",
   "metadata": {},
   "outputs": [
    {
     "name": "stdout",
     "output_type": "stream",
     "text": [
      "Overwriting process_clicks.py\n"
     ]
    }
   ],
   "source": [
    "%%writefile process_clicks.py\n",
    "#!/usr/bin/python3\n",
    "# -*-coding:utf-8 -*\n",
    "import sys\n",
    "import csv\n",
    "from itertools import groupby, islice\n",
    "from functools import reduce\n",
    "from datetime import datetime\n",
    "\n",
    "def kv_stream(sep=\"\\t\"):\n",
    "    return map(lambda x: x.split(sep), sys.stdin)\n",
    "\n",
    "def mapper():\n",
    "    for row in kv_stream():\n",
    "        try:\n",
    "            user, timestamp = row[0], datetime.strptime(row[-1].split(\".\")[0], \"%Y-%m-%d %H:%M:%S\").timestamp()\n",
    "            print(\"{}+{}\\t\".format(user, int(timestamp)))\n",
    "        except Exception as e: pass\n",
    "\n",
    "\n",
    "def reducer():\n",
    "    for key, group in groupby(kv_stream(\"+\"), lambda x: x[0]):\n",
    "        # raise ValueError(key, list(group))\n",
    "        first_ts, last_ts, prev_ts = 0, 0, 0\n",
    "        cnt = 0\n",
    "        for _, ts in group:\n",
    "            ts = int(ts)\n",
    "            if not cnt:\n",
    "                cnt += 1\n",
    "                first_ts, last_ts, prev_ts = ts, ts, ts\n",
    "                continue\n",
    "            cnt += 1\n",
    "            \n",
    "            assert int(ts) >= int(prev_ts), (ts, prev_ts)\n",
    "            if int(ts) - int(prev_ts) <= 15 * 60:\n",
    "                last_ts, prev_ts = ts, ts\n",
    "            else:\n",
    "                print(\"{}\\t{}+{}\".format(key, first_ts, last_ts))\n",
    "                first_ts, last_ts, prev_ts = ts, ts, ts\n",
    "        print(\"{}\\t{}+{}\".format(key, first_ts, last_ts))\n",
    "            \n",
    "            \n",
    "\n",
    "if __name__ == '__main__':\n",
    "    mr_command = sys.argv[1]\n",
    "    {\n",
    "        'map': mapper,\n",
    "        'reduce': reducer\n",
    "    }[mr_command]()"
   ]
  },
  {
   "cell_type": "code",
   "execution_count": 62,
   "id": "e92015fa",
   "metadata": {
    "scrolled": true
   },
   "outputs": [
    {
     "name": "stdout",
     "output_type": "stream",
     "text": [
      "Deleted /user/TimestampsDiffOutput\n",
      "packageJobJar: [] [/usr/lib/hadoop-mapreduce/hadoop-streaming-3.2.2.jar] /tmp/streamjob1954510360543285793.jar tmpDir=null\n",
      "2022-02-19 20:17:58,630 INFO client.RMProxy: Connecting to ResourceManager at rc1a-dataproc-m-9iwr5tnld2ypbv1g.mdb.yandexcloud.net/10.128.0.9:8032\n",
      "2022-02-19 20:17:58,792 INFO client.AHSProxy: Connecting to Application History server at rc1a-dataproc-m-9iwr5tnld2ypbv1g.mdb.yandexcloud.net/10.128.0.9:10200\n",
      "2022-02-19 20:17:58,818 INFO client.RMProxy: Connecting to ResourceManager at rc1a-dataproc-m-9iwr5tnld2ypbv1g.mdb.yandexcloud.net/10.128.0.9:8032\n",
      "2022-02-19 20:17:58,819 INFO client.AHSProxy: Connecting to Application History server at rc1a-dataproc-m-9iwr5tnld2ypbv1g.mdb.yandexcloud.net/10.128.0.9:10200\n",
      "2022-02-19 20:17:58,975 INFO mapreduce.JobResourceUploader: Disabling Erasure Coding for path: /tmp/hadoop-yarn/staging/ubuntu/.staging/job_1645290827478_0021\n",
      "2022-02-19 20:17:59,183 INFO mapred.FileInputFormat: Total input files to process : 1\n",
      "2022-02-19 20:17:59,237 INFO mapreduce.JobSubmitter: number of splits:50\n",
      "2022-02-19 20:17:59,335 INFO mapreduce.JobSubmitter: Submitting tokens for job: job_1645290827478_0021\n",
      "2022-02-19 20:17:59,337 INFO mapreduce.JobSubmitter: Executing with tokens: []\n",
      "2022-02-19 20:17:59,492 INFO conf.Configuration: resource-types.xml not found\n",
      "2022-02-19 20:17:59,493 INFO resource.ResourceUtils: Unable to find 'resource-types.xml'.\n",
      "2022-02-19 20:17:59,545 INFO impl.YarnClientImpl: Submitted application application_1645290827478_0021\n",
      "2022-02-19 20:17:59,576 INFO mapreduce.Job: The url to track the job: http://rc1a-dataproc-m-9iwr5tnld2ypbv1g.mdb.yandexcloud.net:8088/proxy/application_1645290827478_0021/\n",
      "2022-02-19 20:17:59,577 INFO mapreduce.Job: Running job: job_1645290827478_0021\n",
      "2022-02-19 20:18:05,644 INFO mapreduce.Job: Job job_1645290827478_0021 running in uber mode : false\n",
      "2022-02-19 20:18:05,645 INFO mapreduce.Job:  map 0% reduce 0%\n",
      "2022-02-19 20:18:24,015 INFO mapreduce.Job:  map 1% reduce 0%\n",
      "2022-02-19 20:18:27,132 INFO mapreduce.Job:  map 2% reduce 0%\n",
      "2022-02-19 20:18:30,172 INFO mapreduce.Job:  map 3% reduce 0%\n",
      "2022-02-19 20:18:36,281 INFO mapreduce.Job:  map 4% reduce 0%\n",
      "2022-02-19 20:18:42,395 INFO mapreduce.Job:  map 5% reduce 0%\n",
      "2022-02-19 20:18:48,533 INFO mapreduce.Job:  map 6% reduce 0%\n",
      "2022-02-19 20:18:54,708 INFO mapreduce.Job:  map 7% reduce 0%\n",
      "2022-02-19 20:19:01,097 INFO mapreduce.Job:  map 8% reduce 0%\n",
      "2022-02-19 20:19:07,481 INFO mapreduce.Job:  map 9% reduce 0%\n",
      "2022-02-19 20:19:16,969 INFO mapreduce.Job:  map 10% reduce 0%\n",
      "2022-02-19 20:19:29,187 INFO mapreduce.Job:  map 11% reduce 0%\n",
      "2022-02-19 20:19:37,378 INFO mapreduce.Job:  map 12% reduce 0%\n",
      "2022-02-19 20:19:43,584 INFO mapreduce.Job:  map 13% reduce 0%\n",
      "2022-02-19 20:19:49,738 INFO mapreduce.Job:  map 14% reduce 0%\n",
      "2022-02-19 20:19:55,894 INFO mapreduce.Job:  map 15% reduce 0%\n",
      "2022-02-19 20:20:01,940 INFO mapreduce.Job:  map 16% reduce 0%\n",
      "2022-02-19 20:20:08,317 INFO mapreduce.Job:  map 17% reduce 0%\n",
      "2022-02-19 20:20:18,829 INFO mapreduce.Job:  map 18% reduce 0%\n",
      "2022-02-19 20:20:25,885 INFO mapreduce.Job:  map 19% reduce 0%\n",
      "2022-02-19 20:20:29,905 INFO mapreduce.Job:  map 20% reduce 0%\n",
      "2022-02-19 20:20:32,929 INFO mapreduce.Job:  map 21% reduce 0%\n",
      "2022-02-19 20:20:37,037 INFO mapreduce.Job:  map 22% reduce 0%\n",
      "2022-02-19 20:20:44,140 INFO mapreduce.Job:  map 23% reduce 0%\n",
      "2022-02-19 20:20:48,214 INFO mapreduce.Job:  map 24% reduce 0%\n",
      "2022-02-19 20:20:50,222 INFO mapreduce.Job:  map 25% reduce 0%\n",
      "2022-02-19 20:20:58,280 INFO mapreduce.Job:  map 25% reduce 2%\n",
      "2022-02-19 20:21:00,289 INFO mapreduce.Job:  map 26% reduce 2%\n",
      "2022-02-19 20:21:02,308 INFO mapreduce.Job:  map 28% reduce 2%\n",
      "2022-02-19 20:21:05,320 INFO mapreduce.Job:  map 29% reduce 2%\n",
      "2022-02-19 20:21:08,333 INFO mapreduce.Job:  map 31% reduce 2%\n",
      "2022-02-19 20:21:09,340 INFO mapreduce.Job:  map 32% reduce 2%\n",
      "2022-02-19 20:21:10,346 INFO mapreduce.Job:  map 32% reduce 3%\n",
      "2022-02-19 20:21:21,953 INFO mapreduce.Job:  map 33% reduce 3%\n",
      "2022-02-19 20:21:24,093 INFO mapreduce.Job:  map 33% reduce 7%\n",
      "2022-02-19 20:21:27,285 INFO mapreduce.Job:  map 34% reduce 7%\n",
      "2022-02-19 20:21:28,341 INFO mapreduce.Job:  map 34% reduce 10%\n",
      "2022-02-19 20:21:32,419 INFO mapreduce.Job:  map 35% reduce 10%\n",
      "2022-02-19 20:21:38,584 INFO mapreduce.Job:  map 36% reduce 10%\n",
      "2022-02-19 20:21:45,633 INFO mapreduce.Job:  map 37% reduce 10%\n",
      "2022-02-19 20:21:51,679 INFO mapreduce.Job:  map 38% reduce 10%\n",
      "2022-02-19 20:21:57,797 INFO mapreduce.Job:  map 39% reduce 10%\n",
      "2022-02-19 20:22:06,253 INFO mapreduce.Job:  map 40% reduce 10%\n",
      "2022-02-19 20:22:15,777 INFO mapreduce.Job:  map 41% reduce 10%\n",
      "2022-02-19 20:22:24,113 INFO mapreduce.Job:  map 42% reduce 10%\n",
      "2022-02-19 20:22:31,157 INFO mapreduce.Job:  map 43% reduce 10%\n",
      "2022-02-19 20:22:37,217 INFO mapreduce.Job:  map 44% reduce 10%\n",
      "2022-02-19 20:22:42,237 INFO mapreduce.Job:  map 45% reduce 10%\n",
      "2022-02-19 20:22:45,249 INFO mapreduce.Job:  map 46% reduce 10%\n",
      "2022-02-19 20:22:48,261 INFO mapreduce.Job:  map 47% reduce 10%\n",
      "2022-02-19 20:22:49,317 INFO mapreduce.Job:  map 47% reduce 11%\n",
      "2022-02-19 20:22:53,390 INFO mapreduce.Job:  map 48% reduce 12%\n",
      "2022-02-19 20:22:59,559 INFO mapreduce.Job:  map 48% reduce 13%\n",
      "2022-02-19 20:23:01,629 INFO mapreduce.Job:  map 49% reduce 13%\n",
      "2022-02-19 20:23:07,655 INFO mapreduce.Job:  map 50% reduce 13%\n",
      "2022-02-19 20:23:12,675 INFO mapreduce.Job:  map 51% reduce 13%\n",
      "2022-02-19 20:23:16,692 INFO mapreduce.Job:  map 52% reduce 14%\n",
      "2022-02-19 20:23:21,808 INFO mapreduce.Job:  map 53% reduce 14%\n",
      "2022-02-19 20:23:22,827 INFO mapreduce.Job:  map 54% reduce 14%\n",
      "2022-02-19 20:23:26,025 INFO mapreduce.Job:  map 55% reduce 14%\n",
      "2022-02-19 20:23:28,149 INFO mapreduce.Job:  map 56% reduce 14%\n",
      "2022-02-19 20:23:29,209 INFO mapreduce.Job:  map 56% reduce 16%\n",
      "2022-02-19 20:23:31,326 INFO mapreduce.Job:  map 57% reduce 16%\n",
      "2022-02-19 20:23:35,532 INFO mapreduce.Job:  map 57% reduce 17%\n",
      "2022-02-19 20:23:37,661 INFO mapreduce.Job:  map 57% reduce 18%\n",
      "2022-02-19 20:23:40,857 INFO mapreduce.Job:  map 58% reduce 18%\n",
      "2022-02-19 20:23:50,241 INFO mapreduce.Job:  map 59% reduce 18%\n",
      "2022-02-19 20:23:58,378 INFO mapreduce.Job:  map 60% reduce 18%\n",
      "2022-02-19 20:24:05,461 INFO mapreduce.Job:  map 61% reduce 18%\n",
      "2022-02-19 20:24:11,640 INFO mapreduce.Job:  map 62% reduce 18%\n",
      "2022-02-19 20:24:18,832 INFO mapreduce.Job:  map 63% reduce 18%\n",
      "2022-02-19 20:24:28,285 INFO mapreduce.Job:  map 64% reduce 18%\n",
      "2022-02-19 20:24:39,850 INFO mapreduce.Job:  map 65% reduce 18%\n",
      "2022-02-19 20:24:52,190 INFO mapreduce.Job:  map 66% reduce 18%\n",
      "2022-02-19 20:24:59,265 INFO mapreduce.Job:  map 67% reduce 18%\n",
      "2022-02-19 20:25:03,295 INFO mapreduce.Job:  map 68% reduce 18%\n",
      "2022-02-19 20:25:06,304 INFO mapreduce.Job:  map 69% reduce 18%\n",
      "2022-02-19 20:25:09,315 INFO mapreduce.Job:  map 70% reduce 19%\n",
      "2022-02-19 20:25:12,346 INFO mapreduce.Job:  map 71% reduce 20%\n",
      "2022-02-19 20:25:18,407 INFO mapreduce.Job:  map 72% reduce 21%\n",
      "2022-02-19 20:25:25,458 INFO mapreduce.Job:  map 73% reduce 21%\n",
      "2022-02-19 20:25:30,479 INFO mapreduce.Job:  map 74% reduce 21%\n",
      "2022-02-19 20:25:35,503 INFO mapreduce.Job:  map 74% reduce 22%\n",
      "2022-02-19 20:25:36,523 INFO mapreduce.Job:  map 75% reduce 22%\n",
      "2022-02-19 20:25:43,626 INFO mapreduce.Job:  map 76% reduce 22%\n",
      "2022-02-19 20:25:50,982 INFO mapreduce.Job:  map 77% reduce 22%\n",
      "2022-02-19 20:25:55,253 INFO mapreduce.Job:  map 78% reduce 22%\n",
      "2022-02-19 20:25:58,437 INFO mapreduce.Job:  map 79% reduce 22%\n",
      "2022-02-19 20:26:00,557 INFO mapreduce.Job:  map 80% reduce 23%\n",
      "2022-02-19 20:26:03,701 INFO mapreduce.Job:  map 81% reduce 23%\n",
      "2022-02-19 20:26:05,801 INFO mapreduce.Job:  map 81% reduce 24%\n",
      "2022-02-19 20:26:09,815 INFO mapreduce.Job:  map 81% reduce 25%\n",
      "2022-02-19 20:26:11,857 INFO mapreduce.Job:  map 82% reduce 25%\n",
      "2022-02-19 20:26:15,933 INFO mapreduce.Job:  map 83% reduce 26%\n",
      "2022-02-19 20:26:22,076 INFO mapreduce.Job:  map 84% reduce 26%\n",
      "2022-02-19 20:26:23,145 INFO mapreduce.Job:  map 85% reduce 26%\n",
      "2022-02-19 20:26:24,154 INFO mapreduce.Job:  map 86% reduce 26%\n",
      "2022-02-19 20:26:29,175 INFO mapreduce.Job:  map 87% reduce 26%\n",
      "2022-02-19 20:26:30,180 INFO mapreduce.Job:  map 87% reduce 27%\n",
      "2022-02-19 20:26:35,357 INFO mapreduce.Job:  map 88% reduce 27%\n",
      "2022-02-19 20:26:42,733 INFO mapreduce.Job:  map 89% reduce 27%\n",
      "2022-02-19 20:26:53,188 INFO mapreduce.Job:  map 90% reduce 27%\n",
      "2022-02-19 20:27:04,339 INFO mapreduce.Job:  map 91% reduce 27%\n",
      "2022-02-19 20:27:08,390 INFO mapreduce.Job:  map 92% reduce 27%\n",
      "2022-02-19 20:27:14,408 INFO mapreduce.Job:  map 93% reduce 27%\n",
      "2022-02-19 20:27:19,424 INFO mapreduce.Job:  map 94% reduce 27%\n",
      "2022-02-19 20:27:20,427 INFO mapreduce.Job:  map 95% reduce 27%\n",
      "2022-02-19 20:27:21,431 INFO mapreduce.Job:  map 96% reduce 27%\n",
      "2022-02-19 20:27:22,433 INFO mapreduce.Job:  map 96% reduce 28%\n",
      "2022-02-19 20:27:23,437 INFO mapreduce.Job:  map 96% reduce 29%\n",
      "2022-02-19 20:27:25,443 INFO mapreduce.Job:  map 96% reduce 30%\n",
      "2022-02-19 20:27:32,463 INFO mapreduce.Job:  map 97% reduce 30%\n",
      "2022-02-19 20:27:37,477 INFO mapreduce.Job:  map 97% reduce 31%\n",
      "2022-02-19 20:27:50,513 INFO mapreduce.Job:  map 98% reduce 31%\n",
      "2022-02-19 20:27:56,532 INFO mapreduce.Job:  map 99% reduce 31%\n",
      "2022-02-19 20:27:58,538 INFO mapreduce.Job:  map 100% reduce 31%\n",
      "2022-02-19 20:27:59,541 INFO mapreduce.Job:  map 100% reduce 32%\n",
      "2022-02-19 20:28:04,557 INFO mapreduce.Job:  map 100% reduce 33%\n",
      "2022-02-19 20:28:05,560 INFO mapreduce.Job:  map 100% reduce 35%\n",
      "2022-02-19 20:28:07,566 INFO mapreduce.Job:  map 100% reduce 36%\n",
      "2022-02-19 20:28:10,574 INFO mapreduce.Job:  map 100% reduce 38%\n",
      "2022-02-19 20:28:11,577 INFO mapreduce.Job:  map 100% reduce 39%\n",
      "2022-02-19 20:28:13,583 INFO mapreduce.Job:  map 100% reduce 41%\n",
      "2022-02-19 20:28:16,592 INFO mapreduce.Job:  map 100% reduce 42%\n",
      "2022-02-19 20:28:17,596 INFO mapreduce.Job:  map 100% reduce 44%\n",
      "2022-02-19 20:28:19,601 INFO mapreduce.Job:  map 100% reduce 45%\n",
      "2022-02-19 20:28:22,609 INFO mapreduce.Job:  map 100% reduce 47%\n",
      "2022-02-19 20:28:23,612 INFO mapreduce.Job:  map 100% reduce 48%\n",
      "2022-02-19 20:28:25,617 INFO mapreduce.Job:  map 100% reduce 50%\n",
      "2022-02-19 20:28:28,625 INFO mapreduce.Job:  map 100% reduce 51%\n",
      "2022-02-19 20:28:29,627 INFO mapreduce.Job:  map 100% reduce 53%\n",
      "2022-02-19 20:28:31,632 INFO mapreduce.Job:  map 100% reduce 54%\n",
      "2022-02-19 20:28:34,640 INFO mapreduce.Job:  map 100% reduce 56%\n",
      "2022-02-19 20:28:35,642 INFO mapreduce.Job:  map 100% reduce 58%\n",
      "2022-02-19 20:28:37,650 INFO mapreduce.Job:  map 100% reduce 59%\n",
      "2022-02-19 20:28:40,657 INFO mapreduce.Job:  map 100% reduce 61%\n",
      "2022-02-19 20:28:41,659 INFO mapreduce.Job:  map 100% reduce 62%\n",
      "2022-02-19 20:28:43,665 INFO mapreduce.Job:  map 100% reduce 64%\n",
      "2022-02-19 20:28:46,672 INFO mapreduce.Job:  map 100% reduce 65%\n",
      "2022-02-19 20:28:47,675 INFO mapreduce.Job:  map 100% reduce 66%\n",
      "2022-02-19 20:28:49,680 INFO mapreduce.Job:  map 100% reduce 67%\n",
      "2022-02-19 20:28:52,688 INFO mapreduce.Job:  map 100% reduce 68%\n",
      "2022-02-19 20:28:53,691 INFO mapreduce.Job:  map 100% reduce 69%\n",
      "2022-02-19 20:28:57,701 INFO mapreduce.Job:  map 100% reduce 70%\n",
      "2022-02-19 20:28:59,707 INFO mapreduce.Job:  map 100% reduce 71%\n",
      "2022-02-19 20:29:01,714 INFO mapreduce.Job:  map 100% reduce 72%\n",
      "2022-02-19 20:29:05,724 INFO mapreduce.Job:  map 100% reduce 73%\n",
      "2022-02-19 20:29:07,729 INFO mapreduce.Job:  map 100% reduce 74%\n",
      "2022-02-19 20:29:11,739 INFO mapreduce.Job:  map 100% reduce 75%\n",
      "2022-02-19 20:29:13,744 INFO mapreduce.Job:  map 100% reduce 76%\n",
      "2022-02-19 20:29:17,754 INFO mapreduce.Job:  map 100% reduce 77%\n",
      "2022-02-19 20:29:19,759 INFO mapreduce.Job:  map 100% reduce 78%\n",
      "2022-02-19 20:29:21,764 INFO mapreduce.Job:  map 100% reduce 79%\n",
      "2022-02-19 20:29:25,774 INFO mapreduce.Job:  map 100% reduce 80%\n",
      "2022-02-19 20:29:27,780 INFO mapreduce.Job:  map 100% reduce 81%\n",
      "2022-02-19 20:29:31,790 INFO mapreduce.Job:  map 100% reduce 82%\n",
      "2022-02-19 20:29:33,795 INFO mapreduce.Job:  map 100% reduce 83%\n",
      "2022-02-19 20:29:35,800 INFO mapreduce.Job:  map 100% reduce 84%\n",
      "2022-02-19 20:29:39,811 INFO mapreduce.Job:  map 100% reduce 85%\n",
      "2022-02-19 20:29:41,816 INFO mapreduce.Job:  map 100% reduce 86%\n",
      "2022-02-19 20:29:43,821 INFO mapreduce.Job:  map 100% reduce 87%\n",
      "2022-02-19 20:29:47,831 INFO mapreduce.Job:  map 100% reduce 88%\n",
      "2022-02-19 20:29:49,836 INFO mapreduce.Job:  map 100% reduce 89%\n",
      "2022-02-19 20:29:53,846 INFO mapreduce.Job:  map 100% reduce 90%\n",
      "2022-02-19 20:29:55,851 INFO mapreduce.Job:  map 100% reduce 91%\n",
      "2022-02-19 20:29:57,856 INFO mapreduce.Job:  map 100% reduce 92%\n",
      "2022-02-19 20:30:01,866 INFO mapreduce.Job:  map 100% reduce 93%\n",
      "2022-02-19 20:30:03,871 INFO mapreduce.Job:  map 100% reduce 94%\n",
      "2022-02-19 20:30:07,887 INFO mapreduce.Job:  map 100% reduce 95%\n",
      "2022-02-19 20:30:09,892 INFO mapreduce.Job:  map 100% reduce 96%\n",
      "2022-02-19 20:30:13,903 INFO mapreduce.Job:  map 100% reduce 97%\n",
      "2022-02-19 20:30:19,919 INFO mapreduce.Job:  map 100% reduce 98%\n",
      "2022-02-19 20:30:21,924 INFO mapreduce.Job:  map 100% reduce 99%\n",
      "2022-02-19 20:30:25,935 INFO mapreduce.Job:  map 100% reduce 100%\n",
      "2022-02-19 20:30:29,953 INFO mapreduce.Job: Job job_1645290827478_0021 completed successfully\n",
      "2022-02-19 20:30:30,040 INFO mapreduce.Job: Counters: 56\n",
      "\tFile System Counters\n",
      "\t\tFILE: Number of bytes read=2108001709\n",
      "\t\tFILE: Number of bytes written=3132523845\n",
      "\t\tFILE: Number of read operations=0\n",
      "\t\tFILE: Number of large read operations=0\n",
      "\t\tFILE: Number of write operations=0\n",
      "\t\tHDFS: Number of bytes read=13187425570\n",
      "\t\tHDFS: Number of bytes written=895766692\n",
      "\t\tHDFS: Number of read operations=165\n",
      "\t\tHDFS: Number of large read operations=0\n",
      "\t\tHDFS: Number of write operations=9\n",
      "\t\tHDFS: Number of bytes read erasure-coded=0\n",
      "\tJob Counters \n",
      "\t\tKilled map tasks=1\n",
      "\t\tLaunched map tasks=51\n",
      "\t\tLaunched reduce tasks=3\n",
      "\t\tData-local map tasks=26\n",
      "\t\tRack-local map tasks=25\n",
      "\t\tTotal time spent by all maps in occupied slots (ms)=21482259\n",
      "\t\tTotal time spent by all reduces in occupied slots (ms)=5034033\n",
      "\t\tTotal time spent by all map tasks (ms)=7160753\n",
      "\t\tTotal time spent by all reduce tasks (ms)=1678011\n",
      "\t\tTotal vcore-milliseconds taken by all map tasks=7160753\n",
      "\t\tTotal vcore-milliseconds taken by all reduce tasks=1678011\n",
      "\t\tTotal megabyte-milliseconds taken by all map tasks=21997833216\n",
      "\t\tTotal megabyte-milliseconds taken by all reduce tasks=5154849792\n",
      "\tMap-Reduce Framework\n",
      "\t\tMap input records=286821376\n",
      "\t\tMap output records=286821375\n",
      "\t\tMap output bytes=5663075031\n",
      "\t\tMap output materialized bytes=1031524843\n",
      "\t\tInput split bytes=6650\n",
      "\t\tCombine input records=0\n",
      "\t\tCombine output records=0\n",
      "\t\tReduce input groups=285520986\n",
      "\t\tReduce shuffle bytes=1031524843\n",
      "\t\tReduce input records=286821375\n",
      "\t\tReduce output records=30116433\n",
      "\t\tSpilled Records=859862054\n",
      "\t\tShuffled Maps =150\n",
      "\t\tFailed Shuffles=0\n",
      "\t\tMerged Map outputs=150\n",
      "\t\tGC time elapsed (ms)=62421\n",
      "\t\tCPU time spent (ms)=8395410\n",
      "\t\tPhysical memory (bytes) snapshot=66146488320\n",
      "\t\tVirtual memory (bytes) snapshot=231246835712\n",
      "\t\tTotal committed heap usage (bytes)=69322407936\n",
      "\t\tPeak Map Physical memory (bytes)=1254768640\n",
      "\t\tPeak Map Virtual memory (bytes)=4441964544\n",
      "\t\tPeak Reduce Physical memory (bytes)=2663006208\n",
      "\t\tPeak Reduce Virtual memory (bytes)=4399738880\n",
      "\tShuffle Errors\n",
      "\t\tBAD_ID=0\n",
      "\t\tCONNECTION=0\n",
      "\t\tIO_ERROR=0\n",
      "\t\tWRONG_LENGTH=0\n",
      "\t\tWRONG_MAP=0\n",
      "\t\tWRONG_REDUCE=0\n",
      "\tFile Input Format Counters \n",
      "\t\tBytes Read=13187418920\n",
      "\tFile Output Format Counters \n",
      "\t\tBytes Written=895766692\n",
      "2022-02-19 20:30:30,041 INFO streaming.StreamJob: Output directory: /user/TimestampsDiffOutput/\n",
      "CPU times: user 12.1 s, sys: 2.88 s, total: 15 s\n",
      "Wall time: 12min 34s\n"
     ]
    }
   ],
   "source": [
    "%%time\n",
    "\n",
    "! hdfs dfs -rm -r /user/TimestampsDiffOutput/ || true\n",
    "! yarn jar /usr/lib/hadoop-mapreduce/hadoop-streaming.jar \\\n",
    "-D mapreduce.job.name=\"process-clicks\" \\\n",
    "-D mapreduce.job.reduces=3 \\\n",
    "-D mapred.partitioner.class=org.apache.hadoop.mapred.lib.KeyFieldBasedPartitioner \\\n",
    "-D mapreduce.partition.keypartitioner.options=\"-k1,1\" \\\n",
    "-D mapreduce.job.output.key.comparator.class=org.apache.hadoop.mapreduce.lib.partition.KeyFieldBasedComparator \\\n",
    "-D mapreduce.partition.keycomparator.options=\"-k1 -k2n\" \\\n",
    "-D mapreduce.map.output.key.field.separator='+' \\\n",
    "-files ~/process_clicks.py \\\n",
    "-mapper \"python3 process_clicks.py map\" \\\n",
    "-reducer \"python3 process_clicks.py reduce\" \\\n",
    "-input /user/VisitsStream.tsv \\\n",
    "-output /user/TimestampsDiffOutput/"
   ]
  },
  {
   "cell_type": "code",
   "execution_count": 63,
   "id": "c5537604",
   "metadata": {},
   "outputs": [
    {
     "name": "stdout",
     "output_type": "stream",
     "text": [
      "Found 4 items\r\n",
      "-rw-r--r--   1 ubuntu hadoop          0 2022-02-19 20:30 /user/TimestampsDiffOutput/_SUCCESS\r\n",
      "-rw-r--r--   1 ubuntu hadoop  298690662 2022-02-19 20:30 /user/TimestampsDiffOutput/part-00000\r\n",
      "-rw-r--r--   1 ubuntu hadoop  298522247 2022-02-19 20:30 /user/TimestampsDiffOutput/part-00001\r\n",
      "-rw-r--r--   1 ubuntu hadoop  298553783 2022-02-19 20:30 /user/TimestampsDiffOutput/part-00002\r\n"
     ]
    }
   ],
   "source": [
    "! hdfs dfs -ls /user/TimestampsDiffOutput/"
   ]
  },
  {
   "cell_type": "code",
   "execution_count": 64,
   "id": "3d5a08ac",
   "metadata": {
    "scrolled": true
   },
   "outputs": [
    {
     "name": "stdout",
     "output_type": "stream",
     "text": [
      "1000000\t1431610242+1431610561\r\n",
      "1000003\t1430232463+1430233618\r\n",
      "1000003\t1430239839+1430241771\r\n",
      "1000003\t1430827542+1430828936\r\n",
      "1000003\t1430843291+1430843291\r\n",
      "1000003\t1430845016+1430846884\r\n",
      "1000003\t1430914535+1430914795\r\n",
      "1000003\t1430916482+1430917217\r\n",
      "1000003\t1430918226+1430919519\r\n",
      "1000003\t1430921002+1430921161\r\n",
      "1000003\t1430926678+1430927216\r\n",
      "1000003\t1430933242+1430933368\r\n",
      "1000003\t1431018707+1431019574\r\n",
      "1000003\t1431448858+1431450421\r\n",
      "1000009\t1430956571+1430957549\r\n",
      "1000012\t1429972955+1429972955\r\n",
      "1000012\t1429988111+1429988548\r\n",
      "1000012\t1429992748+1429992748\r\n",
      "1000012\t1430350685+1430351171\r\n",
      "1000012\t1430568598+1430568712\r\n",
      "1000012\t1430591024+1430591024\r\n",
      "1000012\t1431031913+1431032446\r\n",
      "1000012\t1431163788+1431163851\r\n",
      "1000012\t1431191016+1431191034\r\n",
      "1000012\t1431191979+1431193065\r\n",
      "1000012\t1431250200+1431250480\r\n",
      "1000012\t1431292967+1431293135\r\n",
      "1000012\t1431465985+1431465985\r\n",
      "1000012\t1431542694+1431542694\r\n",
      "1000012\t1431684133+1431684169\r\n",
      "1000012\t1431697722+1431697722\r\n",
      "1000012\t1431704370+1431704370\r\n",
      "1000012\t1431784355+1431784355\r\n",
      "1000015\t1430917049+1430917049\r\n",
      "1000"
     ]
    }
   ],
   "source": [
    "! hdfs dfs -head /user/TimestampsDiffOutput/part-00000"
   ]
  },
  {
   "cell_type": "code",
   "execution_count": 65,
   "id": "ed56bae3",
   "metadata": {},
   "outputs": [
    {
     "name": "stdout",
     "output_type": "stream",
     "text": [
      "Overwriting top10-3.py\n"
     ]
    }
   ],
   "source": [
    "%%writefile top10-3.py\n",
    "\n",
    "import sys\n",
    "import collections\n",
    "from itertools import islice\n",
    "\n",
    "def kv_stream(sep=\"\\t\"):\n",
    "    return map(lambda x: x.split(sep), sys.stdin)\n",
    "\n",
    "def rewind():\n",
    "    collections.deque(sys.stdin, maxlen=0)\n",
    "\n",
    "def mapper():\n",
    "    for item in kv_stream():\n",
    "        key = item[0]\n",
    "        ts_start, ts_end = item[1].split(\"+\")\n",
    "        print(\"{}+{}\".format(key, int(ts_end) - int(ts_start)))\n",
    "\n",
    "def reducer():\n",
    "    first_10_stream = set()\n",
    "    \n",
    "    for key, value in kv_stream('+'):\n",
    "        if key not in first_10_stream:\n",
    "            first_10_stream.add(key)\n",
    "            print(\"{}\\t{}\".format(key, int(value)))\n",
    "        if len(first_10_stream) >= 10:\n",
    "            break\n",
    "    rewind()\n",
    "    \n",
    "def combiner():\n",
    "    first_10_stream = set()\n",
    "    \n",
    "    for key, value in kv_stream('+'):\n",
    "        if key not in first_10_stream:\n",
    "            first_10_stream.add(key)\n",
    "            print(\"{}+{}\".format(key, int(value)))\n",
    "        if len(first_10_stream) >= 10:\n",
    "            break\n",
    "    rewind()\n",
    "\n",
    "if __name__ == '__main__':\n",
    "    mr_command = sys.argv[1]\n",
    "    {\n",
    "        'map': mapper,\n",
    "        'reduce': reducer,\n",
    "        'combiner': combiner\n",
    "    }[mr_command]()"
   ]
  },
  {
   "cell_type": "code",
   "execution_count": 66,
   "id": "ff71d302",
   "metadata": {
    "scrolled": true
   },
   "outputs": [
    {
     "name": "stdout",
     "output_type": "stream",
     "text": [
      "Deleted /user/top10_sessions\n",
      "packageJobJar: [] [/usr/lib/hadoop-mapreduce/hadoop-streaming-3.2.2.jar] /tmp/streamjob2878000918196960427.jar tmpDir=null\n",
      "2022-02-19 20:32:12,476 INFO client.RMProxy: Connecting to ResourceManager at rc1a-dataproc-m-9iwr5tnld2ypbv1g.mdb.yandexcloud.net/10.128.0.9:8032\n",
      "2022-02-19 20:32:12,635 INFO client.AHSProxy: Connecting to Application History server at rc1a-dataproc-m-9iwr5tnld2ypbv1g.mdb.yandexcloud.net/10.128.0.9:10200\n",
      "2022-02-19 20:32:12,659 INFO client.RMProxy: Connecting to ResourceManager at rc1a-dataproc-m-9iwr5tnld2ypbv1g.mdb.yandexcloud.net/10.128.0.9:8032\n",
      "2022-02-19 20:32:12,660 INFO client.AHSProxy: Connecting to Application History server at rc1a-dataproc-m-9iwr5tnld2ypbv1g.mdb.yandexcloud.net/10.128.0.9:10200\n",
      "2022-02-19 20:32:12,799 INFO mapreduce.JobResourceUploader: Disabling Erasure Coding for path: /tmp/hadoop-yarn/staging/ubuntu/.staging/job_1645290827478_0022\n",
      "2022-02-19 20:32:13,000 INFO mapred.FileInputFormat: Total input files to process : 3\n",
      "2022-02-19 20:32:13,006 INFO net.NetworkTopology: Adding a new node: /default-rack/10.128.0.12:9866\n",
      "2022-02-19 20:32:13,050 INFO mapreduce.JobSubmitter: number of splits:21\n",
      "2022-02-19 20:32:13,164 INFO mapreduce.JobSubmitter: Submitting tokens for job: job_1645290827478_0022\n",
      "2022-02-19 20:32:13,165 INFO mapreduce.JobSubmitter: Executing with tokens: []\n",
      "2022-02-19 20:32:13,313 INFO conf.Configuration: resource-types.xml not found\n",
      "2022-02-19 20:32:13,314 INFO resource.ResourceUtils: Unable to find 'resource-types.xml'.\n",
      "2022-02-19 20:32:13,368 INFO impl.YarnClientImpl: Submitted application application_1645290827478_0022\n",
      "2022-02-19 20:32:13,398 INFO mapreduce.Job: The url to track the job: http://rc1a-dataproc-m-9iwr5tnld2ypbv1g.mdb.yandexcloud.net:8088/proxy/application_1645290827478_0022/\n",
      "2022-02-19 20:32:13,399 INFO mapreduce.Job: Running job: job_1645290827478_0022\n",
      "2022-02-19 20:32:18,474 INFO mapreduce.Job: Job job_1645290827478_0022 running in uber mode : false\n",
      "2022-02-19 20:32:18,475 INFO mapreduce.Job:  map 0% reduce 0%\n",
      "2022-02-19 20:32:35,252 INFO mapreduce.Job:  map 3% reduce 0%\n",
      "2022-02-19 20:32:37,320 INFO mapreduce.Job:  map 32% reduce 0%\n",
      "2022-02-19 20:32:39,338 INFO mapreduce.Job:  map 35% reduce 0%\n",
      "2022-02-19 20:32:40,360 INFO mapreduce.Job:  map 38% reduce 0%\n",
      "2022-02-19 20:32:41,431 INFO mapreduce.Job:  map 43% reduce 0%\n",
      "2022-02-19 20:32:42,437 INFO mapreduce.Job:  map 51% reduce 0%\n",
      "2022-02-19 20:32:43,443 INFO mapreduce.Job:  map 59% reduce 0%\n",
      "2022-02-19 20:32:44,511 INFO mapreduce.Job:  map 62% reduce 0%\n",
      "2022-02-19 20:32:46,602 INFO mapreduce.Job:  map 63% reduce 0%\n",
      "2022-02-19 20:32:48,722 INFO mapreduce.Job:  map 68% reduce 0%\n",
      "2022-02-19 20:32:50,797 INFO mapreduce.Job:  map 71% reduce 0%\n",
      "2022-02-19 20:32:57,995 INFO mapreduce.Job:  map 75% reduce 0%\n",
      "2022-02-19 20:32:59,010 INFO mapreduce.Job:  map 84% reduce 0%\n",
      "2022-02-19 20:33:00,016 INFO mapreduce.Job:  map 90% reduce 24%\n",
      "2022-02-19 20:33:01,022 INFO mapreduce.Job:  map 95% reduce 24%\n",
      "2022-02-19 20:33:02,027 INFO mapreduce.Job:  map 97% reduce 24%\n",
      "2022-02-19 20:33:03,032 INFO mapreduce.Job:  map 100% reduce 24%\n",
      "2022-02-19 20:33:04,038 INFO mapreduce.Job:  map 100% reduce 100%\n",
      "2022-02-19 20:33:05,049 INFO mapreduce.Job: Job job_1645290827478_0022 completed successfully\n",
      "2022-02-19 20:33:05,129 INFO mapreduce.Job: Counters: 56\n",
      "\tFile System Counters\n",
      "\t\tFILE: Number of bytes read=1595\n",
      "\t\tFILE: Number of bytes written=5332125\n",
      "\t\tFILE: Number of read operations=0\n",
      "\t\tFILE: Number of large read operations=0\n",
      "\t\tFILE: Number of write operations=0\n",
      "\t\tHDFS: Number of bytes read=896636854\n",
      "\t\tHDFS: Number of bytes written=142\n",
      "\t\tHDFS: Number of read operations=68\n",
      "\t\tHDFS: Number of large read operations=0\n",
      "\t\tHDFS: Number of write operations=3\n",
      "\t\tHDFS: Number of bytes read erasure-coded=0\n",
      "\tJob Counters \n",
      "\t\tKilled map tasks=1\n",
      "\t\tLaunched map tasks=22\n",
      "\t\tLaunched reduce tasks=1\n",
      "\t\tData-local map tasks=14\n",
      "\t\tRack-local map tasks=8\n",
      "\t\tTotal time spent by all maps in occupied slots (ms)=1341615\n",
      "\t\tTotal time spent by all reduces in occupied slots (ms)=56988\n",
      "\t\tTotal time spent by all map tasks (ms)=447205\n",
      "\t\tTotal time spent by all reduce tasks (ms)=18996\n",
      "\t\tTotal vcore-milliseconds taken by all map tasks=447205\n",
      "\t\tTotal vcore-milliseconds taken by all reduce tasks=18996\n",
      "\t\tTotal megabyte-milliseconds taken by all map tasks=1373813760\n",
      "\t\tTotal megabyte-milliseconds taken by all reduce tasks=58355712\n",
      "\tMap-Reduce Framework\n",
      "\t\tMap input records=30116433\n",
      "\t\tMap output records=30116433\n",
      "\t\tMap output bytes=372366238\n",
      "\t\tMap output materialized bytes=2284\n",
      "\t\tInput split bytes=3108\n",
      "\t\tCombine input records=30116433\n",
      "\t\tCombine output records=210\n",
      "\t\tReduce input groups=210\n",
      "\t\tReduce shuffle bytes=2284\n",
      "\t\tReduce input records=210\n",
      "\t\tReduce output records=10\n",
      "\t\tSpilled Records=420\n",
      "\t\tShuffled Maps =21\n",
      "\t\tFailed Shuffles=0\n",
      "\t\tMerged Map outputs=21\n",
      "\t\tGC time elapsed (ms)=14674\n",
      "\t\tCPU time spent (ms)=314850\n",
      "\t\tPhysical memory (bytes) snapshot=24048226304\n",
      "\t\tVirtual memory (bytes) snapshot=95887060992\n",
      "\t\tTotal committed heap usage (bytes)=28254928896\n",
      "\t\tPeak Map Physical memory (bytes)=1180192768\n",
      "\t\tPeak Map Virtual memory (bytes)=4371279872\n",
      "\t\tPeak Reduce Physical memory (bytes)=282722304\n",
      "\t\tPeak Reduce Virtual memory (bytes)=4362145792\n",
      "\tShuffle Errors\n",
      "\t\tBAD_ID=0\n",
      "\t\tCONNECTION=0\n",
      "\t\tIO_ERROR=0\n",
      "\t\tWRONG_LENGTH=0\n",
      "\t\tWRONG_MAP=0\n",
      "\t\tWRONG_REDUCE=0\n",
      "\tFile Input Format Counters \n",
      "\t\tBytes Read=896633746\n",
      "\tFile Output Format Counters \n",
      "\t\tBytes Written=142\n",
      "2022-02-19 20:33:05,129 INFO streaming.StreamJob: Output directory: /user/top10_sessions/\n",
      "CPU times: user 894 ms, sys: 249 ms, total: 1.14 s\n",
      "Wall time: 55.8 s\n"
     ]
    }
   ],
   "source": [
    "%%time\n",
    "\n",
    "! hdfs dfs -rm -r /user/top10_sessions/ || true\n",
    "! yarn jar /usr/lib/hadoop-mapreduce/hadoop-streaming.jar \\\n",
    "-D mapreduce.job.name=\"top-10\" \\\n",
    "-D mapreduce.job.reduces=1 \\\n",
    "-D mapreduce.job.output.key.comparator.class=org.apache.hadoop.mapreduce.lib.partition.KeyFieldBasedComparator \\\n",
    "-D mapreduce.partition.keycomparator.options=\"-k2,2nr -k1\" \\\n",
    "-D mapreduce.map.output.key.field.separator='+' \\\n",
    "-files ~/top10-3.py \\\n",
    "-mapper \"python3 top10-3.py map\" \\\n",
    "-combiner \"python3 top10-3.py combiner\" \\\n",
    "-reducer \"python3 top10-3.py reduce\" \\\n",
    "-input /user/TimestampsDiffOutput/ \\\n",
    "-output /user/top10_sessions/"
   ]
  },
  {
   "cell_type": "code",
   "execution_count": 67,
   "id": "1cf98d59",
   "metadata": {
    "scrolled": true
   },
   "outputs": [
    {
     "name": "stdout",
     "output_type": "stream",
     "text": [
      "4143904\t358181\r\n",
      "1113291\t329463\r\n",
      "1203081\t170447\r\n",
      "4263912\t80605\r\n",
      "1987990\t70544\r\n",
      "563902\t68359\r\n",
      "2853587\t53371\r\n",
      "2735474\t49881\r\n",
      "1370797\t49791\r\n",
      "2271348\t48099\r\n"
     ]
    }
   ],
   "source": [
    "! hdfs dfs -head /user/top10_sessions/part-00000"
   ]
  },
  {
   "cell_type": "code",
   "execution_count": 70,
   "id": "426d5c39",
   "metadata": {},
   "outputs": [],
   "source": [
    "! hdfs dfs -get /user/top10_sessions/part-00000 task1.txt"
   ]
  },
  {
   "cell_type": "code",
   "execution_count": 72,
   "id": "41a29062",
   "metadata": {
    "scrolled": true
   },
   "outputs": [
    {
     "name": "stdout",
     "output_type": "stream",
     "text": [
      "2022-02-19 20:35:38,959 INFO impl.MetricsConfig: Loaded properties from hadoop-metrics2.properties\n",
      "2022-02-19 20:35:39,021 INFO impl.MetricsSystemImpl: Scheduled Metric snapshot period at 10 second(s).\n",
      "2022-02-19 20:35:39,021 INFO impl.MetricsSystemImpl: s3a-file-system metrics system started\n",
      "2022-02-19 20:35:41,128 INFO impl.MetricsSystemImpl: Stopping s3a-file-system metrics system...\n",
      "2022-02-19 20:35:41,129 INFO impl.MetricsSystemImpl: s3a-file-system metrics system stopped.\n",
      "2022-02-19 20:35:41,129 INFO impl.MetricsSystemImpl: s3a-file-system metrics system shutdown complete.\n"
     ]
    }
   ],
   "source": [
    "! hdfs dfs -put task1.txt s3a://artem-streltsov-bucket/mhw2/task1.txt"
   ]
  },
  {
   "cell_type": "markdown",
   "id": "81076dcd",
   "metadata": {},
   "source": [
    "Ссылка: https://storage.yandexcloud.net/artem-streltsov-bucket/mhw2/task1.txt"
   ]
  },
  {
   "cell_type": "markdown",
   "id": "7e6a419b",
   "metadata": {},
   "source": [
    "# Задание 2.1"
   ]
  },
  {
   "cell_type": "code",
   "execution_count": 5,
   "id": "a278a59d",
   "metadata": {},
   "outputs": [
    {
     "name": "stdout",
     "output_type": "stream",
     "text": [
      "Found 5 items\n",
      "-rw-r--r--   1 ubuntu hadoop  9469373867 2022-02-13 13:28 /user/SearchInfo.tsv\n",
      "-rw-r--r--   1 ubuntu hadoop 13180996392 2022-02-13 13:33 /user/VisitsStream.tsv\n",
      "drwxr-xr-x   - hive   hadoop           0 2022-01-28 20:37 /user/hive\n",
      "drwxr-xr-x   - livy   hadoop           0 2022-01-28 21:22 /user/livy\n",
      "drwxr-xr-x   - ubuntu hadoop           0 2022-02-13 13:17 /user/ubuntu\n"
     ]
    }
   ],
   "source": [
    "! hdfs dfs -ls /user"
   ]
  },
  {
   "cell_type": "code",
   "execution_count": 6,
   "id": "6c68d6bb",
   "metadata": {
    "scrolled": false
   },
   "outputs": [
    {
     "name": "stdout",
     "output_type": "stream",
     "text": [
      "SearchID\tSearchDate\tIPID\tUserID\tIsUserLoggedOn\tSearchQuery\tLocationID\tCategoryID\tSearchParams\r\n",
      "1\t2015-05-18 19:54:32.0\t1717090\t3640266\t0\t\t1729\t5\t\r\n",
      "2\t2015-05-12 14:21:28.0\t1731568\t769304\t0\t\t697\t50\t\r\n",
      "3\t2015-05-12 07:09:42.0\t793143\t640089\t0\t\t1261\t12\t\r\n",
      "4\t2015-05-10 18:11:01.0\t898705\t3573776\t0\t\t3960\t22\t{83:'Обувь', 175:'Женская одежда', 88:'38'}\r\n",
      "5\t2015-04-25 13:04:09.0\t2009707\t320674\t0\t\t547\t1\t\r\n",
      "6\t2015-05-07 16:49:15.0\t1658456\t1665156\t0\t\t926\t27\t\r\n",
      "7\t2015-05-14 23:07:27.0\t1849117\t3434614\t0\t\t44\t500001\t\r\n",
      "8\t2015-05-09 09:10:06.0\t572585\t905821\t0\t\t2694\t12\t\r\n",
      "9\t2015-05-02 20:14:15.0\t77162\t1106541\t0\t\t576\t4\t\r\n",
      "10\t2015-05-15 17:38:46.0\t1371072\t3310798\t0\t\t1110\t12\t\r\n",
      "11\t2015-05-17 12:01:01.0\t67356\t3113486\t1\t\t3953\t22\t{175:'Аксессуары'}\r\n",
      "12\t2015-05-13 11:54:24.0\t1305191\t632714\t0\t\t1729\t4\t{156:'Горные'}\r\n",
      "13\t2015-04-26 21:34:59.0\t1473851\t638475\t0\t\t3960\t38\t{45:'Кровати, диваны и кресла'}\r\n",
      "14\t2015-04-28 01:30:16.0\t473331\t2962661\t1\t\t3961\t38\t{45:'Кровати, диваны и кресла'}\r\n",
      "15\t201"
     ]
    }
   ],
   "source": [
    "! hdfs dfs -head /user/SearchInfo.tsv"
   ]
  },
  {
   "cell_type": "code",
   "execution_count": 1,
   "id": "cbdd9b87",
   "metadata": {},
   "outputs": [],
   "source": [
    "import findspark\n",
    "findspark.init()"
   ]
  },
  {
   "cell_type": "code",
   "execution_count": 4,
   "id": "e015677d",
   "metadata": {},
   "outputs": [],
   "source": [
    "import pyspark\n",
    "sc = pyspark.SparkContext(appName=\"lsml-app\")"
   ]
  },
  {
   "cell_type": "code",
   "execution_count": 3,
   "id": "f63b08a0",
   "metadata": {},
   "outputs": [],
   "source": [
    "data = sc.textFile(\"/user/SearchInfo.tsv\")"
   ]
  },
  {
   "cell_type": "code",
   "execution_count": 4,
   "id": "6b36d52b",
   "metadata": {},
   "outputs": [
    {
     "data": {
      "text/plain": [
       "/user/SearchInfo.tsv MapPartitionsRDD[1] at textFile at NativeMethodAccessorImpl.java:0"
      ]
     },
     "execution_count": 4,
     "metadata": {},
     "output_type": "execute_result"
    }
   ],
   "source": [
    "data"
   ]
  },
  {
   "cell_type": "code",
   "execution_count": 5,
   "id": "68045975",
   "metadata": {
    "scrolled": false
   },
   "outputs": [
    {
     "data": {
      "text/plain": [
       "'SearchID\\tSearchDate\\tIPID\\tUserID\\tIsUserLoggedOn\\tSearchQuery\\tLocationID\\tCategoryID\\tSearchParams'"
      ]
     },
     "execution_count": 5,
     "metadata": {},
     "output_type": "execute_result"
    }
   ],
   "source": [
    "data.first()"
   ]
  },
  {
   "cell_type": "code",
   "execution_count": 10,
   "id": "8901ff8b",
   "metadata": {},
   "outputs": [],
   "source": [
    "import os\n",
    "import re\n",
    "\n",
    "def map__get_keys(row):\n",
    "    splitted = row.split(\"\\t\")\n",
    "    params = splitted[-1]\n",
    "    if not params.strip():\n",
    "        keys = []\n",
    "    else:\n",
    "        # https://stackoverflow.com/questions/12195776/parse-only-one-level-of-json\n",
    "        # я всеми силами старался придумать регулярку сам, но мне впадлу\n",
    "        keys = re.findall(r'([0-9]+)\\s*:\\s*[a-zA-Z|\\'.*\\'|\".*\"|\\[.*\\]|\\{.*\\}]', params)\n",
    "        \n",
    "    return keys"
   ]
  },
  {
   "cell_type": "code",
   "execution_count": 11,
   "id": "30510990",
   "metadata": {},
   "outputs": [],
   "source": [
    "keys = data.flatMap(map__get_keys)"
   ]
  },
  {
   "cell_type": "code",
   "execution_count": 14,
   "id": "ff2c9ba6",
   "metadata": {},
   "outputs": [],
   "source": [
    "ordered = (\n",
    "    keys\n",
    "    .map(lambda x: (x, 1))\n",
    "    .reduceByKey(lambda a, b: a + b)\n",
    "    .takeOrdered(10, lambda x: -x[1])\n",
    ")"
   ]
  },
  {
   "cell_type": "code",
   "execution_count": 16,
   "id": "f757fc0d",
   "metadata": {},
   "outputs": [],
   "source": [
    "with open(\"task2.1.txt\", \"w\") as _:\n",
    "    for k, v in ordered:\n",
    "        print(k, v, file=_)"
   ]
  },
  {
   "cell_type": "code",
   "execution_count": 17,
   "id": "bde767d1",
   "metadata": {},
   "outputs": [
    {
     "name": "stdout",
     "output_type": "stream",
     "text": [
      "2022-02-19 23:26:54,887 INFO impl.MetricsConfig: Loaded properties from hadoop-metrics2.properties\n",
      "2022-02-19 23:26:54,954 INFO impl.MetricsSystemImpl: Scheduled Metric snapshot period at 10 second(s).\n",
      "2022-02-19 23:26:54,954 INFO impl.MetricsSystemImpl: s3a-file-system metrics system started\n",
      "2022-02-19 23:26:58,055 INFO impl.MetricsSystemImpl: Stopping s3a-file-system metrics system...\n",
      "2022-02-19 23:26:58,056 INFO impl.MetricsSystemImpl: s3a-file-system metrics system stopped.\n",
      "2022-02-19 23:26:58,056 INFO impl.MetricsSystemImpl: s3a-file-system metrics system shutdown complete.\n"
     ]
    }
   ],
   "source": [
    "! hdfs dfs -put task2.1.txt s3a://artem-streltsov-bucket/mhw2/task2.1.txt"
   ]
  },
  {
   "cell_type": "markdown",
   "id": "d27f0db6",
   "metadata": {},
   "source": [
    "https://storage.yandexcloud.net/artem-streltsov-bucket/mhw2/task2.1.txt"
   ]
  },
  {
   "cell_type": "markdown",
   "id": "1cd5a716",
   "metadata": {},
   "source": [
    "# Задание 2.2"
   ]
  },
  {
   "cell_type": "code",
   "execution_count": 2,
   "id": "f9f7e9e0",
   "metadata": {},
   "outputs": [
    {
     "name": "stdout",
     "output_type": "stream",
     "text": [
      "Found 9 items\r\n",
      "-rw-r--r--   1 ubuntu hadoop  5350670676 2022-02-20 00:23 /user/avito/AdsInfo.tsv\r\n",
      "-rw-r--r--   1 ubuntu hadoop         752 2022-02-20 00:23 /user/avito/Category.tsv\r\n",
      "-rw-r--r--   1 ubuntu hadoop       58976 2022-02-20 00:23 /user/avito/Location.tsv\r\n",
      "-rw-r--r--   1 ubuntu hadoop   630319200 2022-02-20 00:23 /user/avito/PhoneRequestsStream.tsv\r\n",
      "-rw-r--r--   1 ubuntu hadoop  9469373867 2022-02-20 00:26 /user/avito/SearchInfo.tsv\r\n",
      "-rw-r--r--   1 ubuntu hadoop   104614699 2022-02-20 00:30 /user/avito/UserInfo.tsv\r\n",
      "-rw-r--r--   1 ubuntu hadoop 13180996392 2022-02-20 00:34 /user/avito/VisitsStream.tsv\r\n",
      "-rw-r--r--   1 ubuntu hadoop   557829937 2022-02-20 00:26 /user/avito/testSearchStream.tsv\r\n",
      "-rw-r--r--   1 ubuntu hadoop 11023566785 2022-02-20 00:30 /user/avito/trainSearchStream.tsv\r\n"
     ]
    }
   ],
   "source": [
    "! hdfs dfs -ls /user/avito/"
   ]
  },
  {
   "cell_type": "code",
   "execution_count": null,
   "id": "d946d3c1",
   "metadata": {},
   "outputs": [],
   "source": [
    "! hdfs dfs -head /user/avito/S"
   ]
  },
  {
   "cell_type": "code",
   "execution_count": null,
   "id": "9fc5e3a9",
   "metadata": {},
   "outputs": [],
   "source": []
  },
  {
   "cell_type": "code",
   "execution_count": 5,
   "id": "4b702041",
   "metadata": {},
   "outputs": [],
   "source": [
    "from pyspark.sql import SparkSession, Row\n",
    "se = SparkSession(sc)"
   ]
  },
  {
   "cell_type": "code",
   "execution_count": 4,
   "id": "2b1d99c9",
   "metadata": {},
   "outputs": [],
   "source": [
    "searchinfo = se.read.csv('/user/avito/SearchInfo.tsv', sep ='\\t', header=True, inferSchema=True)"
   ]
  },
  {
   "cell_type": "code",
   "execution_count": 6,
   "id": "c972cf72",
   "metadata": {},
   "outputs": [
    {
     "name": "stdout",
     "output_type": "stream",
     "text": [
      "root\n",
      " |-- SearchID: integer (nullable = true)\n",
      " |-- SearchDate: string (nullable = true)\n",
      " |-- IPID: integer (nullable = true)\n",
      " |-- UserID: integer (nullable = true)\n",
      " |-- IsUserLoggedOn: integer (nullable = true)\n",
      " |-- SearchQuery: string (nullable = true)\n",
      " |-- LocationID: integer (nullable = true)\n",
      " |-- CategoryID: integer (nullable = true)\n",
      " |-- SearchParams: string (nullable = true)\n",
      "\n"
     ]
    }
   ],
   "source": [
    "searchinfo.printSchema()"
   ]
  },
  {
   "cell_type": "code",
   "execution_count": 7,
   "id": "166dfb89",
   "metadata": {
    "scrolled": true
   },
   "outputs": [
    {
     "name": "stdout",
     "output_type": "stream",
     "text": [
      "+--------+--------------------+-------+-------+--------------+-----------+----------+----------+--------------------+\n",
      "|SearchID|          SearchDate|   IPID| UserID|IsUserLoggedOn|SearchQuery|LocationID|CategoryID|        SearchParams|\n",
      "+--------+--------------------+-------+-------+--------------+-----------+----------+----------+--------------------+\n",
      "|       1|2015-05-18 19:54:...|1717090|3640266|             0|       null|      1729|         5|                null|\n",
      "|       2|2015-05-12 14:21:...|1731568| 769304|             0|       null|       697|        50|                null|\n",
      "|       3|2015-05-12 07:09:...| 793143| 640089|             0|       null|      1261|        12|                null|\n",
      "|       4|2015-05-10 18:11:...| 898705|3573776|             0|       null|      3960|        22|{83:'Обувь', 175:...|\n",
      "|       5|2015-04-25 13:04:...|2009707| 320674|             0|       null|       547|         1|                null|\n",
      "|       6|2015-05-07 16:49:...|1658456|1665156|             0|       null|       926|        27|                null|\n",
      "|       7|2015-05-14 23:07:...|1849117|3434614|             0|       null|        44|    500001|                null|\n",
      "|       8|2015-05-09 09:10:...| 572585| 905821|             0|       null|      2694|        12|                null|\n",
      "|       9|2015-05-02 20:14:...|  77162|1106541|             0|       null|       576|         4|                null|\n",
      "|      10|2015-05-15 17:38:...|1371072|3310798|             0|       null|      1110|        12|                null|\n",
      "|      11|2015-05-17 12:01:...|  67356|3113486|             1|       null|      3953|        22|  {175:'Аксессуары'}|\n",
      "|      12|2015-05-13 11:54:...|1305191| 632714|             0|       null|      1729|         4|      {156:'Горные'}|\n",
      "|      13|2015-04-26 21:34:...|1473851| 638475|             0|       null|      3960|        38|{45:'Кровати, див...|\n",
      "|      14|2015-04-28 01:30:...| 473331|2962661|             1|       null|      3961|        38|{45:'Кровати, див...|\n",
      "|      15|2015-05-06 11:23:...|1117012|2515153|             0|       null|      3725|        34|                null|\n",
      "|      16|2015-05-10 21:08:...|2022127|1259151|             0|       null|      2114|        34|{5:'Шины, диски и...|\n",
      "|      17|2015-05-03 14:12:...| 697982| 943133|             1|       null|      3960|        37|                null|\n",
      "|      19|2015-05-12 10:14:...|2080435|2909452|             0|       null|      1261|        60|{110:'Верхняя оде...|\n",
      "|      20|2015-05-16 14:38:...| 486408|4280401|             0|       null|      3679|         4|                null|\n",
      "|      21|2015-05-14 17:27:...|1279103|3419273|             0|       null|       576|        38|{45:'Подставки и ...|\n",
      "+--------+--------------------+-------+-------+--------------+-----------+----------+----------+--------------------+\n",
      "only showing top 20 rows\n",
      "\n"
     ]
    }
   ],
   "source": [
    "searchinfo.show()"
   ]
  },
  {
   "cell_type": "code",
   "execution_count": 5,
   "id": "a0850da3",
   "metadata": {
    "scrolled": true
   },
   "outputs": [],
   "source": [
    "searchstream = se.read.csv('/user/avito/trainSearchStream.tsv', sep ='\\t', header=True, inferSchema=True)"
   ]
  },
  {
   "cell_type": "code",
   "execution_count": 9,
   "id": "26c1b987",
   "metadata": {},
   "outputs": [
    {
     "name": "stdout",
     "output_type": "stream",
     "text": [
      "root\n",
      " |-- SearchID: integer (nullable = true)\n",
      " |-- AdID: integer (nullable = true)\n",
      " |-- Position: integer (nullable = true)\n",
      " |-- ObjectType: integer (nullable = true)\n",
      " |-- HistCTR: double (nullable = true)\n",
      " |-- IsClick: integer (nullable = true)\n",
      "\n"
     ]
    }
   ],
   "source": [
    "searchstream.printSchema()"
   ]
  },
  {
   "cell_type": "code",
   "execution_count": null,
   "id": "5f001a8b",
   "metadata": {},
   "outputs": [],
   "source": []
  },
  {
   "cell_type": "code",
   "execution_count": 10,
   "id": "0f1a49d4",
   "metadata": {},
   "outputs": [
    {
     "name": "stdout",
     "output_type": "stream",
     "text": [
      "+--------+--------+--------+----------+--------+-------+\n",
      "|SearchID|    AdID|Position|ObjectType| HistCTR|IsClick|\n",
      "+--------+--------+--------+----------+--------+-------+\n",
      "|       2|11441863|       1|         3|0.001804|      0|\n",
      "|       2|22968355|       7|         3|0.004723|      0|\n",
      "|       3|  212187|       7|         3|0.029701|      0|\n",
      "|       3|34084553|       1|         3|  0.0043|      0|\n",
      "|       3|36256251|       2|         2|    null|   null|\n",
      "|       4| 2073399|       6|         1|    null|   null|\n",
      "|       4| 6046052|       7|         1|    null|   null|\n",
      "|       4|17544913|       8|         1|    null|   null|\n",
      "|       4|20653823|       1|         3|0.003049|      0|\n",
      "|       4|24129570|       2|         2|    null|   null|\n",
      "|       5|  530202|       6|         1|    null|   null|\n",
      "|       5|11219482|       1|         3|0.043897|      0|\n",
      "|       5|13375896|       7|         3|0.001563|      0|\n",
      "|       5|30074367|       2|         2|    null|   null|\n",
      "|       5|33506654|       8|         1|    null|   null|\n",
      "|       6| 6303835|       1|         3|0.007044|      0|\n",
      "|       6|28312593|       7|         3|0.002199|      0|\n",
      "|       8|24728248|       1|         3|0.003647|      0|\n",
      "|       8|27598775|       7|         3| 0.03137|      0|\n",
      "|       9| 1723280|       6|         1|    null|   null|\n",
      "+--------+--------+--------+----------+--------+-------+\n",
      "only showing top 20 rows\n",
      "\n"
     ]
    }
   ],
   "source": [
    "searchstream.show()"
   ]
  },
  {
   "cell_type": "code",
   "execution_count": 3,
   "id": "1a0e20b6",
   "metadata": {
    "scrolled": true
   },
   "outputs": [
    {
     "name": "stdout",
     "output_type": "stream",
     "text": [
      "Deleted /user/avito_parquet\r\n"
     ]
    }
   ],
   "source": [
    "! hdfs dfs -rm -r /user/avito_parquet/ || true"
   ]
  },
  {
   "cell_type": "code",
   "execution_count": 9,
   "id": "ba2833fb",
   "metadata": {},
   "outputs": [],
   "source": [
    "searchstream.write.parquet(\"/user/avito_parquet/searchstream.parquet\")\n",
    "searchinfo.write.parquet(\"/user/avito_parquet/searchinfo.parquet\")\n",
    "\n",
    "searchstream = se.read.parquet(\"/user/avito_parquet/searchstream.parquet\")\n",
    "searchinfo = se.read.parquet(\"/user/avito_parquet/searchinfo.parquet\")"
   ]
  },
  {
   "cell_type": "code",
   "execution_count": 10,
   "id": "ccf13ecc",
   "metadata": {},
   "outputs": [],
   "source": [
    "searchstream.registerTempTable(\"searchstream\")\n",
    "searchinfo.registerTempTable(\"searchinfo\")"
   ]
  },
  {
   "cell_type": "code",
   "execution_count": 111,
   "id": "23a80356",
   "metadata": {},
   "outputs": [
    {
     "name": "stdout",
     "output_type": "stream",
     "text": [
      "CPU times: user 19.7 ms, sys: 0 ns, total: 19.7 ms\n",
      "Wall time: 46.1 s\n"
     ]
    }
   ],
   "source": [
    "%%time\n",
    "task2_2_result = se.sql(\"\"\"\n",
    "    WITH info_full AS (\n",
    "        SELECT SearchID, explode(split(LOWER(SearchQuery), ' ')) as query\n",
    "        FROM searchinfo\n",
    "    )\n",
    "    SELECT fi.query, COUNT(fi.query) as cnt\n",
    "    FROM info_full fi\n",
    "        join searchstream s on s.SearchID = fi.SearchID\n",
    "    WHERE IsClick = 1\n",
    "    GROUP BY fi.query\n",
    "    ORDER BY cnt DESC\n",
    "    LIMIT 10;\n",
    "\"\"\").toPandas()"
   ]
  },
  {
   "cell_type": "code",
   "execution_count": 26,
   "id": "2ae41db0",
   "metadata": {},
   "outputs": [
    {
     "data": {
      "text/html": [
       "<div>\n",
       "<style scoped>\n",
       "    .dataframe tbody tr th:only-of-type {\n",
       "        vertical-align: middle;\n",
       "    }\n",
       "\n",
       "    .dataframe tbody tr th {\n",
       "        vertical-align: top;\n",
       "    }\n",
       "\n",
       "    .dataframe thead th {\n",
       "        text-align: right;\n",
       "    }\n",
       "</style>\n",
       "<table border=\"1\" class=\"dataframe\">\n",
       "  <thead>\n",
       "    <tr style=\"text-align: right;\">\n",
       "      <th></th>\n",
       "      <th>query</th>\n",
       "      <th>cnt</th>\n",
       "    </tr>\n",
       "  </thead>\n",
       "  <tbody>\n",
       "    <tr>\n",
       "      <th>0</th>\n",
       "      <td>велосипед</td>\n",
       "      <td>12507</td>\n",
       "    </tr>\n",
       "    <tr>\n",
       "      <th>1</th>\n",
       "      <td>бу</td>\n",
       "      <td>11207</td>\n",
       "    </tr>\n",
       "    <tr>\n",
       "      <th>2</th>\n",
       "      <td>iphone</td>\n",
       "      <td>7437</td>\n",
       "    </tr>\n",
       "    <tr>\n",
       "      <th>3</th>\n",
       "      <td>для</td>\n",
       "      <td>5981</td>\n",
       "    </tr>\n",
       "    <tr>\n",
       "      <th>4</th>\n",
       "      <td>диван</td>\n",
       "      <td>5715</td>\n",
       "    </tr>\n",
       "    <tr>\n",
       "      <th>5</th>\n",
       "      <td>на</td>\n",
       "      <td>4905</td>\n",
       "    </tr>\n",
       "    <tr>\n",
       "      <th>6</th>\n",
       "      <td>платье</td>\n",
       "      <td>4465</td>\n",
       "    </tr>\n",
       "    <tr>\n",
       "      <th>7</th>\n",
       "      <td>коляска</td>\n",
       "      <td>3785</td>\n",
       "    </tr>\n",
       "    <tr>\n",
       "      <th>8</th>\n",
       "      <td>велосипеды</td>\n",
       "      <td>3780</td>\n",
       "    </tr>\n",
       "    <tr>\n",
       "      <th>9</th>\n",
       "      <td>самокат</td>\n",
       "      <td>3447</td>\n",
       "    </tr>\n",
       "  </tbody>\n",
       "</table>\n",
       "</div>"
      ],
      "text/plain": [
       "        query    cnt\n",
       "0   велосипед  12507\n",
       "1          бу  11207\n",
       "2      iphone   7437\n",
       "3         для   5981\n",
       "4       диван   5715\n",
       "5          на   4905\n",
       "6      платье   4465\n",
       "7     коляска   3785\n",
       "8  велосипеды   3780\n",
       "9     самокат   3447"
      ]
     },
     "execution_count": 26,
     "metadata": {},
     "output_type": "execute_result"
    }
   ],
   "source": [
    "task2_2_result"
   ]
  },
  {
   "cell_type": "code",
   "execution_count": 113,
   "id": "58e7e0ce",
   "metadata": {},
   "outputs": [],
   "source": [
    "task2_2_result.to_csv(\"task2.2.tsv\", sep=\"\\t\", index=False, header=False)"
   ]
  },
  {
   "cell_type": "code",
   "execution_count": 114,
   "id": "6851b386",
   "metadata": {
    "scrolled": true
   },
   "outputs": [
    {
     "name": "stdout",
     "output_type": "stream",
     "text": [
      "2022-02-20 16:12:52,589 INFO impl.MetricsConfig: Loaded properties from hadoop-metrics2.properties\n",
      "2022-02-20 16:12:52,657 INFO impl.MetricsSystemImpl: Scheduled Metric snapshot period at 10 second(s).\n",
      "2022-02-20 16:12:52,657 INFO impl.MetricsSystemImpl: s3a-file-system metrics system started\n",
      "2022-02-20 16:12:54,872 INFO impl.MetricsSystemImpl: Stopping s3a-file-system metrics system...\n",
      "2022-02-20 16:12:54,872 INFO impl.MetricsSystemImpl: s3a-file-system metrics system stopped.\n",
      "2022-02-20 16:12:54,872 INFO impl.MetricsSystemImpl: s3a-file-system metrics system shutdown complete.\n"
     ]
    }
   ],
   "source": [
    "!hdfs dfs -put task2.2.tsv s3a://artem-streltsov-bucket/mhw2/task2.2.tsv"
   ]
  },
  {
   "cell_type": "markdown",
   "id": "866b06af",
   "metadata": {},
   "source": [
    "https://storage.yandexcloud.net/artem-streltsov-bucket/mhw2/task2.2.tsv"
   ]
  },
  {
   "cell_type": "markdown",
   "id": "ace54caa",
   "metadata": {},
   "source": [
    "# Задание 2.3"
   ]
  },
  {
   "cell_type": "code",
   "execution_count": 27,
   "id": "f30a7716",
   "metadata": {},
   "outputs": [],
   "source": [
    "adsinfo = se.read.csv('/user/avito/AdsInfo.tsv', sep ='\\t', header=True, inferSchema=True)\n",
    "adsinfo.write.parquet(\"/user/avito_parquet/adsinfo.parquet\")"
   ]
  },
  {
   "cell_type": "code",
   "execution_count": 7,
   "id": "e665da2b",
   "metadata": {},
   "outputs": [],
   "source": [
    "adsinfo = se.read.parquet(\"/user/avito_parquet/adsinfo.parquet\")\n",
    "adsinfo.registerTempTable(\"adsinfo\")"
   ]
  },
  {
   "cell_type": "code",
   "execution_count": 28,
   "id": "b29ea509",
   "metadata": {
    "scrolled": false
   },
   "outputs": [
    {
     "name": "stdout",
     "output_type": "stream",
     "text": [
      "+----+----------+----------+--------------------+---------+--------------------+---------+\n",
      "|AdID|LocationID|CategoryID|              Params|    Price|               Title|IsContext|\n",
      "+----+----------+----------+--------------------+---------+--------------------+---------+\n",
      "|   1|       343|        43|{1283:'С пробегом...| 160000.0| Toyota Estima, 1993|        0|\n",
      "|   2|       992|        34|{817:'Кузов', 5:'...|    750.0|Передние брызгови...|        0|\n",
      "|   3|      3771|        53|{181:'Промышленное'}|  18000.0|            Дровокол|        0|\n",
      "|   4|      4294|        57|{130:'Приборы и а...|   1500.0|Продам ходули скл...|        0|\n",
      "|   5|      1344|        34|{817:'Автосвет', ...|    800.0|Поворотник R - Ca...|        0|\n",
      "|   6|      3953|        34|{817:'Кузов', 5:'...|      0.0|ВАЗ дверь 2106 пе...|        0|\n",
      "|   7|      1330|        26|{132:'Видео, DVD ...|     30.0|               Видео|        0|\n",
      "|   8|      3022|        22|{83:'Свадебные пл...|   7000.0| Дизайнерское платье|        0|\n",
      "|   9|      2840|        47|     {127:'Игрушки'}|   2460.0|Светодиодный конс...|        0|\n",
      "|  10|      2277|        54|{549:'3', 201:'Пр...|7000000.0|3-к квартира, 92 ...|        0|\n",
      "|  11|      2164|        54|{576:'9-12', 550:...|    800.0|1-к квартира, 34 ...|        0|\n",
      "|  12|      4294|        43|{1283:'С пробегом...| 459000.0|   Honda Civic, 2008|        0|\n",
      "|  13|      3960|        38|{45:'Предметы инт...|  25700.0|\"\"\"Столичные\"\", Б...|        0|\n",
      "|  14|      3960|        37|       {14:'Другое'}|    200.0|\"Приёмник трехпро...|        0|\n",
      "|  15|      3960|        29|{483:'Сетевое обо...|    300.0|       ZTE zxdsl 831|        0|\n",
      "|  16|      3953|        34|{817:'Кузов', 5:'...|   1400.0|Форд фокус 2 зерк...|        0|\n",
      "|  17|       346|        14|                null|      0.0|Продается новая с...|        0|\n",
      "|  18|      1751|        38|{45:'Предметы инт...|    500.0|         Кукла Попик|        0|\n",
      "|  19|      3976|    250006|{712:'Удалённая р...|  36000.0|Диспетчер на вход...|        0|\n",
      "|  20|       576|        34|{817:'Автосвет', ...|   2000.0|   Фонари ауди а6 с5|        0|\n",
      "+----+----------+----------+--------------------+---------+--------------------+---------+\n",
      "only showing top 20 rows\n",
      "\n"
     ]
    }
   ],
   "source": [
    "adsinfo.show()"
   ]
  },
  {
   "cell_type": "markdown",
   "id": "78658800",
   "metadata": {},
   "source": [
    "AVG игнорит NULL по умолчанию."
   ]
  },
  {
   "cell_type": "code",
   "execution_count": 8,
   "id": "9b96c4d1",
   "metadata": {
    "scrolled": false
   },
   "outputs": [
    {
     "name": "stdout",
     "output_type": "stream",
     "text": [
      "CPU times: user 239 ms, sys: 62.1 ms, total: 302 ms\n",
      "Wall time: 57 s\n"
     ]
    },
    {
     "data": {
      "text/html": [
       "<div>\n",
       "<style scoped>\n",
       "    .dataframe tbody tr th:only-of-type {\n",
       "        vertical-align: middle;\n",
       "    }\n",
       "\n",
       "    .dataframe tbody tr th {\n",
       "        vertical-align: top;\n",
       "    }\n",
       "\n",
       "    .dataframe thead th {\n",
       "        text-align: right;\n",
       "    }\n",
       "</style>\n",
       "<table border=\"1\" class=\"dataframe\">\n",
       "  <thead>\n",
       "    <tr style=\"text-align: right;\">\n",
       "      <th></th>\n",
       "      <th>tword</th>\n",
       "      <th>average</th>\n",
       "    </tr>\n",
       "  </thead>\n",
       "  <tbody>\n",
       "    <tr>\n",
       "      <th>0</th>\n",
       "      <td>москвском</td>\n",
       "      <td>1.000000e+12</td>\n",
       "    </tr>\n",
       "    <tr>\n",
       "      <th>1</th>\n",
       "      <td>вазя</td>\n",
       "      <td>1.000000e+12</td>\n",
       "    </tr>\n",
       "    <tr>\n",
       "      <th>2</th>\n",
       "      <td>екуеу</td>\n",
       "      <td>1.000000e+12</td>\n",
       "    </tr>\n",
       "    <tr>\n",
       "      <th>3</th>\n",
       "      <td>аваыаыв</td>\n",
       "      <td>8.888889e+11</td>\n",
       "    </tr>\n",
       "    <tr>\n",
       "      <th>4</th>\n",
       "      <td>rytrytry</td>\n",
       "      <td>7.777778e+11</td>\n",
       "    </tr>\n",
       "    <tr>\n",
       "      <th>5</th>\n",
       "      <td>красавы</td>\n",
       "      <td>5.000000e+11</td>\n",
       "    </tr>\n",
       "    <tr>\n",
       "      <th>6</th>\n",
       "      <td>строимград</td>\n",
       "      <td>5.000000e+11</td>\n",
       "    </tr>\n",
       "    <tr>\n",
       "      <th>7</th>\n",
       "      <td>универсамы</td>\n",
       "      <td>4.500000e+11</td>\n",
       "    </tr>\n",
       "    <tr>\n",
       "      <th>8</th>\n",
       "      <td>витражы,</td>\n",
       "      <td>3.333333e+11</td>\n",
       "    </tr>\n",
       "    <tr>\n",
       "      <th>9</th>\n",
       "      <td>25900</td>\n",
       "      <td>2.000000e+11</td>\n",
       "    </tr>\n",
       "  </tbody>\n",
       "</table>\n",
       "</div>"
      ],
      "text/plain": [
       "        tword       average\n",
       "0   москвском  1.000000e+12\n",
       "1        вазя  1.000000e+12\n",
       "2       екуеу  1.000000e+12\n",
       "3     аваыаыв  8.888889e+11\n",
       "4    rytrytry  7.777778e+11\n",
       "5     красавы  5.000000e+11\n",
       "6  строимград  5.000000e+11\n",
       "7  универсамы  4.500000e+11\n",
       "8    витражы,  3.333333e+11\n",
       "9       25900  2.000000e+11"
      ]
     },
     "execution_count": 8,
     "metadata": {},
     "output_type": "execute_result"
    }
   ],
   "source": [
    "%%time\n",
    "task2_3_result = se.sql(\"\"\"\n",
    "    WITH info_full AS (\n",
    "        SELECT Price as price, explode(split(LOWER(Title), ' ')) as tword\n",
    "        FROM adsinfo\n",
    "        WHERE Title IS NOT NULL\n",
    "    )\n",
    "    SELECT tword, AVG(price) as average\n",
    "    FROM info_full\n",
    "    GROUP BY tword\n",
    "    ORDER BY average DESC\n",
    "    LIMIT 10;\n",
    "\"\"\").toPandas()\n",
    "task2_3_result"
   ]
  },
  {
   "cell_type": "markdown",
   "id": "5292010c",
   "metadata": {},
   "source": [
    "# ВИТРАЖЫ"
   ]
  },
  {
   "cell_type": "code",
   "execution_count": 115,
   "id": "57d38096",
   "metadata": {},
   "outputs": [],
   "source": [
    "task2_3_result.to_csv(\"task2.3.tsv\", sep=\"\\t\", index=False, header=False)"
   ]
  },
  {
   "cell_type": "code",
   "execution_count": 116,
   "id": "68224b22",
   "metadata": {},
   "outputs": [
    {
     "name": "stdout",
     "output_type": "stream",
     "text": [
      "2022-02-20 16:12:55,783 INFO impl.MetricsConfig: Loaded properties from hadoop-metrics2.properties\n",
      "2022-02-20 16:12:55,852 INFO impl.MetricsSystemImpl: Scheduled Metric snapshot period at 10 second(s).\n",
      "2022-02-20 16:12:55,852 INFO impl.MetricsSystemImpl: s3a-file-system metrics system started\n",
      "2022-02-20 16:12:58,125 INFO impl.MetricsSystemImpl: Stopping s3a-file-system metrics system...\n",
      "2022-02-20 16:12:58,125 INFO impl.MetricsSystemImpl: s3a-file-system metrics system stopped.\n",
      "2022-02-20 16:12:58,125 INFO impl.MetricsSystemImpl: s3a-file-system metrics system shutdown complete.\n"
     ]
    }
   ],
   "source": [
    "!hdfs dfs -put task2.3.tsv s3a://artem-streltsov-bucket/mhw2/task2.3.tsv"
   ]
  },
  {
   "cell_type": "markdown",
   "id": "4b569dbb",
   "metadata": {},
   "source": [
    "https://storage.yandexcloud.net/artem-streltsov-bucket/mhw2/task2.3.tsv"
   ]
  },
  {
   "cell_type": "markdown",
   "id": "f03a9bf9",
   "metadata": {},
   "source": [
    "# Задание 2.4"
   ]
  },
  {
   "cell_type": "code",
   "execution_count": 34,
   "id": "6213e15a",
   "metadata": {},
   "outputs": [],
   "source": [
    "visitstream = se.read.csv('/user/avito/VisitsStream.tsv', sep ='\\t', header=True, inferSchema=True)\n",
    "visitstream.write.parquet(\"/user/avito_parquet/visitstream.parquet\")\n",
    "visitstream = se.read.parquet(\"/user/avito_parquet/visitstream.parquet\")\n",
    "visitstream.registerTempTable(\"visitstream\")"
   ]
  },
  {
   "cell_type": "code",
   "execution_count": 37,
   "id": "7cd0e4dd",
   "metadata": {},
   "outputs": [
    {
     "name": "stdout",
     "output_type": "stream",
     "text": [
      "+-------+-------+--------+--------------------+\n",
      "| UserID|   IPID|    AdID|            ViewDate|\n",
      "+-------+-------+--------+--------------------+\n",
      "|3339459|2141522|17013380|2015-05-19 17:47:...|\n",
      "|3472056| 468478| 9250676|2015-05-19 17:47:...|\n",
      "|3498500|2194994|16265489|2015-05-19 17:47:...|\n",
      "|3581440| 167293|29431869|2015-05-19 17:47:...|\n",
      "|3756375|1294847|  311552|2015-05-19 17:47:...|\n",
      "|3891751|1190064| 9709139|2015-05-19 17:47:...|\n",
      "|3971739|1811955|16457203|2015-05-19 17:47:...|\n",
      "|4006974|1796040|36742059|2015-05-19 17:47:...|\n",
      "|4102599| 678975|32139132|2015-05-19 17:47:...|\n",
      "|4106979|1479340|32656590|2015-05-19 17:47:...|\n",
      "|4203357|1759496| 2785886|2015-05-19 17:47:...|\n",
      "|4271481| 604680| 2311288|2015-05-19 17:47:...|\n",
      "|  29832|1519127| 2774307|2015-05-19 17:47:...|\n",
      "| 106382| 698275|24729353|2015-05-19 17:47:...|\n",
      "| 232031| 351316| 3087932|2015-05-19 17:47:...|\n",
      "| 263551|1706098| 3345028|2015-05-19 17:47:...|\n",
      "| 296159|1597739| 9021206|2015-05-19 17:47:...|\n",
      "| 323952| 290722|  974185|2015-05-19 17:47:...|\n",
      "| 384101|1192160|16225283|2015-05-19 17:47:...|\n",
      "| 399210| 909600|25996922|2015-05-19 17:47:...|\n",
      "+-------+-------+--------+--------------------+\n",
      "only showing top 20 rows\n",
      "\n"
     ]
    }
   ],
   "source": [
    "visitstream.show()"
   ]
  },
  {
   "cell_type": "code",
   "execution_count": 107,
   "id": "08118b99",
   "metadata": {
    "scrolled": true
   },
   "outputs": [
    {
     "name": "stdout",
     "output_type": "stream",
     "text": [
      "CPU times: user 14.9 ms, sys: 7.01 ms, total: 21.9 ms\n",
      "Wall time: 1min 9s\n"
     ]
    },
    {
     "data": {
      "text/html": [
       "<div>\n",
       "<style scoped>\n",
       "    .dataframe tbody tr th:only-of-type {\n",
       "        vertical-align: middle;\n",
       "    }\n",
       "\n",
       "    .dataframe tbody tr th {\n",
       "        vertical-align: top;\n",
       "    }\n",
       "\n",
       "    .dataframe thead th {\n",
       "        text-align: right;\n",
       "    }\n",
       "</style>\n",
       "<table border=\"1\" class=\"dataframe\">\n",
       "  <thead>\n",
       "    <tr style=\"text-align: right;\">\n",
       "      <th></th>\n",
       "      <th>count(UserID)</th>\n",
       "    </tr>\n",
       "  </thead>\n",
       "  <tbody>\n",
       "    <tr>\n",
       "      <th>0</th>\n",
       "      <td>807</td>\n",
       "    </tr>\n",
       "  </tbody>\n",
       "</table>\n",
       "</div>"
      ],
      "text/plain": [
       "   count(UserID)\n",
       "0            807"
      ]
     },
     "execution_count": 107,
     "metadata": {},
     "output_type": "execute_result"
    }
   ],
   "source": [
    "%%time\n",
    "task2_4_result = se.sql(\"\"\"\n",
    "    WITH info_full AS (\n",
    "        SELECT UserId, DATEDIFF(MAX(TO_DATE(ViewDate)), MIN(TO_DATE(ViewDate))) as total_days, COUNT(DISTINCT TO_DATE(ViewDate)) as cnt\n",
    "        FROM visitstream\n",
    "        GROUP BY UserID\n",
    "    ),\n",
    "    days_period AS (\n",
    "        SELECT DATEDIFF(MAX(TO_DATE(ViewDate)), MIN(TO_DATE(ViewDate))) as days\n",
    "        FROM visitstream\n",
    "    )\n",
    "    SELECT COUNT(fi.UserID) FROM info_full fi\n",
    "    INNER JOIN days_period dp ON fi.total_days = dp.days\n",
    "    WHERE fi.cnt = dp.days + 1;\n",
    "\"\"\").toPandas()\n",
    "task2_4_result"
   ]
  },
  {
   "cell_type": "code",
   "execution_count": 108,
   "id": "e8721461",
   "metadata": {},
   "outputs": [],
   "source": [
    "task2_4_result.to_csv(\"task2.4.tsv\", sep=\"\\t\", index=False, header=False)"
   ]
  },
  {
   "cell_type": "code",
   "execution_count": 109,
   "id": "c1e59294",
   "metadata": {},
   "outputs": [
    {
     "name": "stdout",
     "output_type": "stream",
     "text": [
      "2022-02-20 16:03:55,612 INFO impl.MetricsConfig: Loaded properties from hadoop-metrics2.properties\n",
      "2022-02-20 16:03:55,679 INFO impl.MetricsSystemImpl: Scheduled Metric snapshot period at 10 second(s).\n",
      "2022-02-20 16:03:55,680 INFO impl.MetricsSystemImpl: s3a-file-system metrics system started\n",
      "2022-02-20 16:03:57,892 INFO impl.MetricsSystemImpl: Stopping s3a-file-system metrics system...\n",
      "2022-02-20 16:03:57,892 INFO impl.MetricsSystemImpl: s3a-file-system metrics system stopped.\n",
      "2022-02-20 16:03:57,893 INFO impl.MetricsSystemImpl: s3a-file-system metrics system shutdown complete.\n"
     ]
    }
   ],
   "source": [
    "!hdfs dfs -put task2.4.tsv s3a://artem-streltsov-bucket/mhw2/task2.4.tsv"
   ]
  },
  {
   "cell_type": "markdown",
   "id": "e7165062",
   "metadata": {},
   "source": [
    "https://storage.yandexcloud.net/artem-streltsov-bucket/mhw2/task2.4.tsv"
   ]
  },
  {
   "cell_type": "markdown",
   "id": "00d397bc",
   "metadata": {},
   "source": [
    "# Задание 2.5"
   ]
  },
  {
   "cell_type": "markdown",
   "id": "bbd79294",
   "metadata": {},
   "source": [
    "**Вообще говоря, можно было бы просто вычесть константу из предыдущего номера. Но мы же тру аналитики там, эверейдж эс-ку-эл энджойеры, давайте использовать православный left outer join.**"
   ]
  },
  {
   "cell_type": "code",
   "execution_count": 136,
   "id": "b310ec03",
   "metadata": {},
   "outputs": [
    {
     "name": "stdout",
     "output_type": "stream",
     "text": [
      "CPU times: user 42.4 ms, sys: 7.76 ms, total: 50.2 ms\n",
      "Wall time: 3min 15s\n"
     ]
    },
    {
     "data": {
      "text/html": [
       "<div>\n",
       "<style scoped>\n",
       "    .dataframe tbody tr th:only-of-type {\n",
       "        vertical-align: middle;\n",
       "    }\n",
       "\n",
       "    .dataframe tbody tr th {\n",
       "        vertical-align: top;\n",
       "    }\n",
       "\n",
       "    .dataframe thead th {\n",
       "        text-align: right;\n",
       "    }\n",
       "</style>\n",
       "<table border=\"1\" class=\"dataframe\">\n",
       "  <thead>\n",
       "    <tr style=\"text-align: right;\">\n",
       "      <th></th>\n",
       "      <th>cast_date</th>\n",
       "      <th>cnt</th>\n",
       "    </tr>\n",
       "  </thead>\n",
       "  <tbody>\n",
       "    <tr>\n",
       "      <th>0</th>\n",
       "      <td>2015-05-12</td>\n",
       "      <td>973248</td>\n",
       "    </tr>\n",
       "    <tr>\n",
       "      <th>1</th>\n",
       "      <td>2015-05-13</td>\n",
       "      <td>847446</td>\n",
       "    </tr>\n",
       "    <tr>\n",
       "      <th>2</th>\n",
       "      <td>2015-05-14</td>\n",
       "      <td>745904</td>\n",
       "    </tr>\n",
       "    <tr>\n",
       "      <th>3</th>\n",
       "      <td>2015-05-06</td>\n",
       "      <td>733027</td>\n",
       "    </tr>\n",
       "    <tr>\n",
       "      <th>4</th>\n",
       "      <td>2015-05-05</td>\n",
       "      <td>731624</td>\n",
       "    </tr>\n",
       "    <tr>\n",
       "      <th>5</th>\n",
       "      <td>2015-05-07</td>\n",
       "      <td>729708</td>\n",
       "    </tr>\n",
       "    <tr>\n",
       "      <th>6</th>\n",
       "      <td>2015-05-11</td>\n",
       "      <td>706240</td>\n",
       "    </tr>\n",
       "    <tr>\n",
       "      <th>7</th>\n",
       "      <td>2015-04-27</td>\n",
       "      <td>676433</td>\n",
       "    </tr>\n",
       "    <tr>\n",
       "      <th>8</th>\n",
       "      <td>2015-05-08</td>\n",
       "      <td>664982</td>\n",
       "    </tr>\n",
       "    <tr>\n",
       "      <th>9</th>\n",
       "      <td>2015-04-28</td>\n",
       "      <td>655791</td>\n",
       "    </tr>\n",
       "    <tr>\n",
       "      <th>10</th>\n",
       "      <td>2015-04-29</td>\n",
       "      <td>641148</td>\n",
       "    </tr>\n",
       "    <tr>\n",
       "      <th>11</th>\n",
       "      <td>2015-05-15</td>\n",
       "      <td>633132</td>\n",
       "    </tr>\n",
       "    <tr>\n",
       "      <th>12</th>\n",
       "      <td>2015-05-04</td>\n",
       "      <td>607205</td>\n",
       "    </tr>\n",
       "    <tr>\n",
       "      <th>13</th>\n",
       "      <td>2015-04-30</td>\n",
       "      <td>596224</td>\n",
       "    </tr>\n",
       "    <tr>\n",
       "      <th>14</th>\n",
       "      <td>2015-05-10</td>\n",
       "      <td>562151</td>\n",
       "    </tr>\n",
       "    <tr>\n",
       "      <th>15</th>\n",
       "      <td>2015-04-26</td>\n",
       "      <td>540051</td>\n",
       "    </tr>\n",
       "    <tr>\n",
       "      <th>16</th>\n",
       "      <td>2015-05-03</td>\n",
       "      <td>511687</td>\n",
       "    </tr>\n",
       "    <tr>\n",
       "      <th>17</th>\n",
       "      <td>2015-04-25</td>\n",
       "      <td>498069</td>\n",
       "    </tr>\n",
       "    <tr>\n",
       "      <th>18</th>\n",
       "      <td>2015-05-16</td>\n",
       "      <td>493577</td>\n",
       "    </tr>\n",
       "    <tr>\n",
       "      <th>19</th>\n",
       "      <td>2015-05-18</td>\n",
       "      <td>488250</td>\n",
       "    </tr>\n",
       "    <tr>\n",
       "      <th>20</th>\n",
       "      <td>2015-05-17</td>\n",
       "      <td>480968</td>\n",
       "    </tr>\n",
       "    <tr>\n",
       "      <th>21</th>\n",
       "      <td>2015-05-02</td>\n",
       "      <td>468010</td>\n",
       "    </tr>\n",
       "    <tr>\n",
       "      <th>22</th>\n",
       "      <td>2015-05-01</td>\n",
       "      <td>452800</td>\n",
       "    </tr>\n",
       "    <tr>\n",
       "      <th>23</th>\n",
       "      <td>2015-05-09</td>\n",
       "      <td>450135</td>\n",
       "    </tr>\n",
       "    <tr>\n",
       "      <th>24</th>\n",
       "      <td>2015-05-19</td>\n",
       "      <td>367777</td>\n",
       "    </tr>\n",
       "    <tr>\n",
       "      <th>25</th>\n",
       "      <td>2015-05-20</td>\n",
       "      <td>184972</td>\n",
       "    </tr>\n",
       "  </tbody>\n",
       "</table>\n",
       "</div>"
      ],
      "text/plain": [
       "     cast_date     cnt\n",
       "0   2015-05-12  973248\n",
       "1   2015-05-13  847446\n",
       "2   2015-05-14  745904\n",
       "3   2015-05-06  733027\n",
       "4   2015-05-05  731624\n",
       "5   2015-05-07  729708\n",
       "6   2015-05-11  706240\n",
       "7   2015-04-27  676433\n",
       "8   2015-05-08  664982\n",
       "9   2015-04-28  655791\n",
       "10  2015-04-29  641148\n",
       "11  2015-05-15  633132\n",
       "12  2015-05-04  607205\n",
       "13  2015-04-30  596224\n",
       "14  2015-05-10  562151\n",
       "15  2015-04-26  540051\n",
       "16  2015-05-03  511687\n",
       "17  2015-04-25  498069\n",
       "18  2015-05-16  493577\n",
       "19  2015-05-18  488250\n",
       "20  2015-05-17  480968\n",
       "21  2015-05-02  468010\n",
       "22  2015-05-01  452800\n",
       "23  2015-05-09  450135\n",
       "24  2015-05-19  367777\n",
       "25  2015-05-20  184972"
      ]
     },
     "execution_count": 136,
     "metadata": {},
     "output_type": "execute_result"
    }
   ],
   "source": [
    "%%time\n",
    "task2_5_result = se.sql(\"\"\"\n",
    "    WITH info_full AS (\n",
    "        SELECT UserId, DATEDIFF(MAX(TO_DATE(ViewDate)), MIN(TO_DATE(ViewDate))) as total_days, COUNT(DISTINCT TO_DATE(ViewDate)) as cnt\n",
    "        FROM visitstream\n",
    "        GROUP BY UserID\n",
    "    ),\n",
    "    days_period AS (\n",
    "        SELECT DATEDIFF(MAX(TO_DATE(ViewDate)), MIN(TO_DATE(ViewDate))) as days\n",
    "        FROM visitstream\n",
    "    ),\n",
    "    users_been_all_days AS (\n",
    "        SELECT fi.UserID as uid FROM info_full fi\n",
    "        INNER JOIN days_period dp ON fi.total_days = dp.days\n",
    "        WHERE fi.cnt = dp.days + 1\n",
    "    )\n",
    "    SELECT TO_DATE(vs.ViewDate) AS cast_date, COUNT(DISTINCT vs.UserID) as cnt FROM visitstream vs\n",
    "    LEFT OUTER JOIN users_been_all_days ubad ON vs.UserID = ubad.uid\n",
    "    WHERE ubad.uid IS NULL\n",
    "    GROUP BY cast_date\n",
    "    ORDER BY cnt DESC;\n",
    "\"\"\").toPandas()\n",
    "task2_5_result"
   ]
  },
  {
   "cell_type": "code",
   "execution_count": 137,
   "id": "6527cec9",
   "metadata": {},
   "outputs": [],
   "source": [
    "task2_5_result.to_csv(\"task2.5.tsv\", sep=\"\\t\", index=False, header=False)"
   ]
  },
  {
   "cell_type": "code",
   "execution_count": 138,
   "id": "b2dee4a7",
   "metadata": {},
   "outputs": [
    {
     "name": "stdout",
     "output_type": "stream",
     "text": [
      "2022-02-20 16:39:16,564 INFO impl.MetricsConfig: Loaded properties from hadoop-metrics2.properties\n",
      "2022-02-20 16:39:16,634 INFO impl.MetricsSystemImpl: Scheduled Metric snapshot period at 10 second(s).\n",
      "2022-02-20 16:39:16,634 INFO impl.MetricsSystemImpl: s3a-file-system metrics system started\n",
      "2022-02-20 16:39:18,988 INFO impl.MetricsSystemImpl: Stopping s3a-file-system metrics system...\n",
      "2022-02-20 16:39:18,988 INFO impl.MetricsSystemImpl: s3a-file-system metrics system stopped.\n",
      "2022-02-20 16:39:18,988 INFO impl.MetricsSystemImpl: s3a-file-system metrics system shutdown complete.\n"
     ]
    }
   ],
   "source": [
    "!hdfs dfs -put task2.5.tsv s3a://artem-streltsov-bucket/mhw2/task2.5.tsv"
   ]
  },
  {
   "cell_type": "markdown",
   "id": "9976d18c",
   "metadata": {},
   "source": [
    "https://storage.yandexcloud.net/artem-streltsov-bucket/mhw2/task2.5.tsv"
   ]
  },
  {
   "cell_type": "code",
   "execution_count": null,
   "id": "1c6b1c36",
   "metadata": {},
   "outputs": [],
   "source": []
  }
 ],
 "metadata": {
  "kernelspec": {
   "display_name": "Python 3",
   "language": "python",
   "name": "python3"
  },
  "language_info": {
   "codemirror_mode": {
    "name": "ipython",
    "version": 3
   },
   "file_extension": ".py",
   "mimetype": "text/x-python",
   "name": "python",
   "nbconvert_exporter": "python",
   "pygments_lexer": "ipython3",
   "version": "3.8.10"
  }
 },
 "nbformat": 4,
 "nbformat_minor": 5
}
